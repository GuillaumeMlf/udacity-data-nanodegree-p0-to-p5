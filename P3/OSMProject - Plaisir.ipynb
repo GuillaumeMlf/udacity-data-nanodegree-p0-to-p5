{
 "cells": [
  {
   "cell_type": "code",
   "execution_count": 2,
   "metadata": {
    "collapsed": false
   },
   "outputs": [],
   "source": [
    "import xml.etree.cElementTree as ET\n",
    "import pprint as pp\n",
    "import re\n",
    "import codecs\n",
    "import json\n",
    "from pymongo import MongoClient"
   ]
  },
  {
   "cell_type": "code",
   "execution_count": 3,
   "metadata": {
    "collapsed": true
   },
   "outputs": [],
   "source": [
    "OSM_FILE = \"plaisir.osm\""
   ]
  },
  {
   "cell_type": "code",
   "execution_count": 4,
   "metadata": {
    "collapsed": true
   },
   "outputs": [],
   "source": [
    "SAMPLE_FILE = \"sample.osm\"\n",
    "\n",
    "k = 10 # Parameter: take every k-th top level element\n",
    "\n",
    "def get_element(osm_file, tags=('node', 'way', 'relation')):\n",
    "    context = iter(ET.iterparse(osm_file, events=('start', 'end')))\n",
    "    _, root = next(context)\n",
    "    for event, elem in context:\n",
    "        if event == 'end' and elem.tag in tags:\n",
    "            yield elem\n",
    "            root.clear()\n",
    "\n",
    "\n",
    "with open(SAMPLE_FILE, 'wb') as output:\n",
    "    output.write('<?xml version=\"1.0\" encoding=\"UTF-8\"?>\\n')\n",
    "    output.write('<osm>\\n  ')\n",
    "\n",
    "    # Write every kth top level element\n",
    "    for i, element in enumerate(get_element(OSM_FILE)):\n",
    "        if i % k == 0:\n",
    "            output.write(ET.tostring(element, encoding='utf-8'))\n",
    "\n",
    "    output.write('</osm>')"
   ]
  },
  {
   "cell_type": "markdown",
   "metadata": {},
   "source": [
    "# First view of the file"
   ]
  },
  {
   "cell_type": "code",
   "execution_count": 5,
   "metadata": {
    "collapsed": false
   },
   "outputs": [],
   "source": [
    "tree = ET.parse(\"sample.osm\")\n",
    "root = tree.getroot()"
   ]
  },
  {
   "cell_type": "code",
   "execution_count": 6,
   "metadata": {
    "collapsed": false
   },
   "outputs": [
    {
     "name": "stdout",
     "output_type": "stream",
     "text": [
      "\n",
      "Children of root:\n",
      "set(['node', 'relation', 'way'])\n"
     ]
    }
   ],
   "source": [
    "print \"\\nChildren of root:\"\n",
    "childs = set()\n",
    "for child in root:\n",
    "    childs.add(child.tag)\n",
    "print childs"
   ]
  },
  {
   "cell_type": "code",
   "execution_count": 7,
   "metadata": {
    "collapsed": false,
    "scrolled": false
   },
   "outputs": [
    {
     "name": "stdout",
     "output_type": "stream",
     "text": [
      "\n",
      "Children of childrens of root\n",
      "{'node': set(['tag']), 'relation': set(['member', 'tag']), 'way': set(['tag', 'nd'])}\n"
     ]
    }
   ],
   "source": [
    "print \"\\nChildren of childrens of root\"\n",
    "children = {}\n",
    "children[\"node\"] = set()\n",
    "children[\"relation\"] = set()\n",
    "children[\"way\"] = set()\n",
    "for child in root:\n",
    "    for i in child:\n",
    "        children[child.tag].add(i.tag)\n",
    "print children"
   ]
  },
  {
   "cell_type": "markdown",
   "metadata": {},
   "source": [
    "# Audit of the file"
   ]
  },
  {
   "cell_type": "code",
   "execution_count": 8,
   "metadata": {
    "collapsed": false
   },
   "outputs": [
    {
     "name": "stdout",
     "output_type": "stream",
     "text": [
      "{'node': 33069, 'nd': 46051, 'member': 1718, 'tag': 14808, 'relation': 45, 'way': 5618, 'osm': 1}\n"
     ]
    }
   ],
   "source": [
    "tags = {}\n",
    "for event, elem in ET.iterparse(\"sample.osm\"):\n",
    "    if elem.tag not in tags:\n",
    "        tags[elem.tag]= 1\n",
    "    else:\n",
    "        tags[elem.tag] += 1\n",
    "print tags"
   ]
  },
  {
   "cell_type": "markdown",
   "metadata": {
    "collapsed": true
   },
   "source": [
    "**What I will do to get a better view of the file?**\n",
    "- Build a dictionnary to count :\n",
    "    - the number and types of amenity, \n",
    "    - the number and types of shops, \n",
    "    - the number and types of sport."
   ]
  },
  {
   "cell_type": "code",
   "execution_count": 9,
   "metadata": {
    "collapsed": false
   },
   "outputs": [],
   "source": [
    "tags_details = {}\n",
    "keys = [\"amenity\",\"shop\",\"sport\",\"place\",\"service\",\"building\"]\n",
    "\n",
    "def create_tags_details(binder, list_keys, filename):\n",
    "    for key in list_keys:\n",
    "        binder[key] = {}\n",
    "    for event, elem in ET.iterparse(filename, events = (\"start\",)):\n",
    "        if elem.tag == \"tag\":\n",
    "            for tag in elem.iter(\"tag\"):\n",
    "                for key in list_keys:\n",
    "                    if elem.attrib[\"k\"] == key:\n",
    "                        if tag.attrib[\"v\"] not in binder[key]:\n",
    "                            binder[key][tag.attrib[\"v\"]] = 1\n",
    "                        else:    \n",
    "                            binder[key][tag.attrib[\"v\"]] += 1\n",
    "    return pp.pprint(binder)"
   ]
  },
  {
   "cell_type": "code",
   "execution_count": 10,
   "metadata": {
    "collapsed": false
   },
   "outputs": [
    {
     "name": "stdout",
     "output_type": "stream",
     "text": [
      "{'amenity': {'atm': 2,\n",
      "             'bank': 2,\n",
      "             'bar': 2,\n",
      "             'bench': 12,\n",
      "             'bus_station': 1,\n",
      "             'cafe': 1,\n",
      "             'car_wash': 1,\n",
      "             'clock': 1,\n",
      "             'college': 1,\n",
      "             'community_centre': 1,\n",
      "             'doctors': 1,\n",
      "             'fast_food': 3,\n",
      "             'fountain': 1,\n",
      "             'fuel': 2,\n",
      "             'hospital': 1,\n",
      "             'kindergarten': 1,\n",
      "             'parking': 28,\n",
      "             'parking_entrance': 2,\n",
      "             'pharmacy': 2,\n",
      "             'place_of_worship': 2,\n",
      "             'post_box': 3,\n",
      "             'recycling': 3,\n",
      "             'restaurant': 4,\n",
      "             'school': 13,\n",
      "             'shelter': 1,\n",
      "             'swimming_pool': 8,\n",
      "             'telephone': 6,\n",
      "             'theatre': 1,\n",
      "             'vending_machine': 2,\n",
      "             'waste_basket': 11},\n",
      " 'building': {'chapel': 1,\n",
      "              'church': 1,\n",
      "              'commercial': 1,\n",
      "              'house': 16,\n",
      "              'industrial': 3,\n",
      "              'office': 1,\n",
      "              'residential': 16,\n",
      "              'roof': 1,\n",
      "              'school': 1,\n",
      "              'train_station': 1,\n",
      "              'yes': 4606},\n",
      " 'place': {'hamlet': 1, 'town': 1, 'village': 1},\n",
      " 'service': {'Parking': 1,\n",
      "             'alley': 5,\n",
      "             'driveway': 4,\n",
      "             'emergency_access': 1,\n",
      "             'parking_aisle': 43,\n",
      "             'siding': 4,\n",
      "             'yard': 3},\n",
      " 'shop': {'bakery': 3,\n",
      "          'butcher': 1,\n",
      "          'clothes': 1,\n",
      "          'convenience': 4,\n",
      "          'doityourself': 1,\n",
      "          'furniture': 1,\n",
      "          'garden_centre': 1,\n",
      "          'hairdresser': 2,\n",
      "          'shoes': 1,\n",
      "          'supermarket': 2,\n",
      "          'ticket': 1},\n",
      " 'sport': {'athletics': 2,\n",
      "           'basketball': 2,\n",
      "           'boules': 1,\n",
      "           'golf': 1,\n",
      "           'gymnastics': 1,\n",
      "           'multi': 3,\n",
      "           'soccer': 9,\n",
      "           'swimming': 5,\n",
      "           'tennis': 11}}\n"
     ]
    }
   ],
   "source": [
    "create_tags_details(tags_details,keys,\"sample.osm\")"
   ]
  },
  {
   "cell_type": "markdown",
   "metadata": {},
   "source": [
    "**What questions I want to answer?**\n",
    "- Is there a correlation between the number of house and the number of bus stop in a given area?\n",
    "- What is the most popular type of shop in Plaisir?\n",
    "- What is the sport with the most facilities in Plaisir?\n",
    "- Are there more restaurant or Fastfood in Plaisir"
   ]
  },
  {
   "cell_type": "markdown",
   "metadata": {},
   "source": [
    "## Data cleaning plan"
   ]
  },
  {
   "cell_type": "markdown",
   "metadata": {},
   "source": [
    "- Clean addr:street fields\n",
    "- Create a list with one document per tag (we will only care about node and way) and the following structure:\n"
   ]
  },
  {
   "cell_type": "markdown",
   "metadata": {},
   "source": [
    "{\n",
    "\"id\": \"2406124091\",\n",
    "\"type: \"node\",\n",
    "\"visible\":\"true\",\n",
    "\"created\": {\n",
    "          \"version\":\"2\",\n",
    "          \"changeset\":\"17206049\",\n",
    "          \"timestamp\":\"2013-08-03T16:43:42Z\",\n",
    "          \"user\":\"linuxUser16\",\n",
    "          \"uid\":\"1219059\"\n",
    "        },\n",
    "\"pos\": [41.9757030, -87.6921867],\n",
    "\"address\": {\n",
    "          \"housenumber\": \"5157\",\n",
    "          \"postcode\": \"60625\",\n",
    "          \"street\": \"North Lincoln Ave\"\n",
    "        },\n",
    "\"amenity\": \"restaurant\",\n",
    "\"cuisine\": \"mexican\",\n",
    "\"name\": \"La Cabana De Don Luis\",\n",
    "\"phone\": \"1 (773)-271-5176\"\n",
    "}"
   ]
  },
  {
   "cell_type": "code",
   "execution_count": 11,
   "metadata": {
    "collapsed": true
   },
   "outputs": [],
   "source": [
    "lower = re.compile(r'^([a-z]|_)*$')\n",
    "lower_colon = re.compile(r'^([a-z]|_)*:([a-z]|_)*$')\n",
    "problemchars = re.compile(r'[=\\+/&<>;\\'\"\\?%#$@\\,\\. \\t\\r\\n]')\n",
    "startswith = re.compile(r'addr:')\n",
    "\n",
    "CREATED = [ \"version\", \"changeset\", \"timestamp\", \"user\", \"uid\"]\n",
    "POS = [\"lon\",\"lat\"]\n",
    "BUILDING_TYPES = [\"amenity\",\"shop\",\"sport\",\"place\",\"service\",\"building\"]\n",
    "\n",
    "def shape_element(element):\n",
    "    node = {}\n",
    "    pos = []\n",
    "    node_refs = []\n",
    "    created = {}\n",
    "    address = {}\n",
    "    types = {}\n",
    "    if element.tag == \"node\" or element.tag == \"way\" :\n",
    "        types['type'] = element.tag\n",
    "        if 'lat' in element.attrib.keys() and 'lon' in element.attrib.keys():\n",
    "            try:\n",
    "                lat = float(element.attrib['lat'])\n",
    "                lon = float(element.attrib['lon'])\n",
    "                pos.insert(0,lat)\n",
    "                pos.insert(1,lon)\n",
    "            except:\n",
    "                pass\n",
    "        for k, m in element.attrib.items():\n",
    "            if k not in POS:\n",
    "                if k in CREATED:\n",
    "                    created[k] = m\n",
    "                else:\n",
    "                    node[k] = m\n",
    "\n",
    "        for child in element:\n",
    "            if child.tag == \"nd\":\n",
    "                node_refs.append(child.attrib['ref'])\n",
    "            elif child.tag == \"tag\":\n",
    "                if child.attrib['k'].startswith(\"addr:\"):\n",
    "                    key = re.sub('addr:', '', child.attrib['k']).strip()\n",
    "                    if lower_colon.match(key):\n",
    "                        break\n",
    "                    else:\n",
    "                        address[key] = child.attrib['v']\n",
    "                elif child.attrib['k'] in BUILDING_TYPES:\n",
    "                    types[child.attrib['k']] = child.attrib['v']\n",
    "        if types:\n",
    "            node['types'] = types\n",
    "        if created:\n",
    "            node['created'] = created\n",
    "        if pos:\n",
    "            node['pos'] = pos\n",
    "        if address:\n",
    "            node['address'] = address\n",
    "        if node_refs:\n",
    "            node['node_refs'] = node_refs\n",
    "        return node\n",
    "    else:\n",
    "        return None\n",
    "    \n",
    "def process_map(file_in, pretty = False):\n",
    "    file_out = \"{0}.json\".format(file_in)\n",
    "    data = []\n",
    "    with codecs.open(file_out, \"w\") as fo:\n",
    "        for _, element in ET.iterparse(file_in):\n",
    "            el = shape_element(element)\n",
    "            if el:\n",
    "                data.append(el)\n",
    "                if pretty:\n",
    "                    fo.write(json.dumps(el, indent=2)+\"\\n\")\n",
    "                else:\n",
    "                    fo.write(json.dumps(el) + \"\\n\")\n",
    "    return data"
   ]
  },
  {
   "cell_type": "code",
   "execution_count": 12,
   "metadata": {
    "collapsed": false
   },
   "outputs": [],
   "source": [
    "data = process_map('plaisir.osm', True)"
   ]
  },
  {
   "cell_type": "code",
   "execution_count": 13,
   "metadata": {
    "collapsed": false
   },
   "outputs": [],
   "source": [
    "##pp.pprint(data)"
   ]
  },
  {
   "cell_type": "markdown",
   "metadata": {},
   "source": [
    "## Insert data in MongoDb"
   ]
  },
  {
   "cell_type": "code",
   "execution_count": 18,
   "metadata": {
    "collapsed": false
   },
   "outputs": [
    {
     "ename": "DuplicateKeyError",
     "evalue": "E11000 duplicate key error collection: osm_udacity.plaisir_osm index: _id_ dup key: { : ObjectId('5805c87aecf40b794d9ad942') }",
     "output_type": "error",
     "traceback": [
      "\u001b[0;31m---------------------------------------------------------------------------\u001b[0m",
      "\u001b[0;31mDuplicateKeyError\u001b[0m                         Traceback (most recent call last)",
      "\u001b[0;32m<ipython-input-18-224efbada8df>\u001b[0m in \u001b[0;36m<module>\u001b[0;34m()\u001b[0m\n\u001b[1;32m      7\u001b[0m \u001b[0mdb\u001b[0m \u001b[0;34m=\u001b[0m \u001b[0mclient\u001b[0m\u001b[0;34m.\u001b[0m\u001b[0mosm_udacity\u001b[0m\u001b[0;34m\u001b[0m\u001b[0m\n\u001b[1;32m      8\u001b[0m \u001b[0;34m\u001b[0m\u001b[0m\n\u001b[0;32m----> 9\u001b[0;31m \u001b[0minsert_data\u001b[0m\u001b[0;34m(\u001b[0m\u001b[0mdata\u001b[0m\u001b[0;34m,\u001b[0m \u001b[0mdb\u001b[0m\u001b[0;34m)\u001b[0m\u001b[0;34m\u001b[0m\u001b[0m\n\u001b[0m\u001b[1;32m     10\u001b[0m \u001b[0;32mprint\u001b[0m \u001b[0mdb\u001b[0m\u001b[0;34m.\u001b[0m\u001b[0mplaisir_osm\u001b[0m\u001b[0;34m.\u001b[0m\u001b[0mfind_one\u001b[0m\u001b[0;34m(\u001b[0m\u001b[0;34m)\u001b[0m\u001b[0;34m\u001b[0m\u001b[0m\n",
      "\u001b[0;32m<ipython-input-18-224efbada8df>\u001b[0m in \u001b[0;36minsert_data\u001b[0;34m(data, db)\u001b[0m\n\u001b[1;32m      1\u001b[0m \u001b[0;32mdef\u001b[0m \u001b[0minsert_data\u001b[0m\u001b[0;34m(\u001b[0m\u001b[0mdata\u001b[0m\u001b[0;34m,\u001b[0m \u001b[0mdb\u001b[0m\u001b[0;34m)\u001b[0m\u001b[0;34m:\u001b[0m\u001b[0;34m\u001b[0m\u001b[0m\n\u001b[1;32m      2\u001b[0m     \u001b[0;32mfor\u001b[0m \u001b[0mitem\u001b[0m \u001b[0;32min\u001b[0m \u001b[0mdata\u001b[0m\u001b[0;34m:\u001b[0m\u001b[0;34m\u001b[0m\u001b[0m\n\u001b[0;32m----> 3\u001b[0;31m         \u001b[0mdb\u001b[0m\u001b[0;34m.\u001b[0m\u001b[0mplaisir_osm\u001b[0m\u001b[0;34m.\u001b[0m\u001b[0minsert_one\u001b[0m\u001b[0;34m(\u001b[0m\u001b[0mitem\u001b[0m\u001b[0;34m)\u001b[0m\u001b[0;34m\u001b[0m\u001b[0m\n\u001b[0m\u001b[1;32m      4\u001b[0m \u001b[0;34m\u001b[0m\u001b[0m\n\u001b[1;32m      5\u001b[0m \u001b[0;32mfrom\u001b[0m \u001b[0mpymongo\u001b[0m \u001b[0;32mimport\u001b[0m \u001b[0mMongoClient\u001b[0m\u001b[0;34m\u001b[0m\u001b[0m\n",
      "\u001b[0;32m//anaconda/lib/python2.7/site-packages/pymongo/collection.pyc\u001b[0m in \u001b[0;36minsert_one\u001b[0;34m(self, document, bypass_document_validation)\u001b[0m\n\u001b[1;32m    628\u001b[0m             return InsertOneResult(\n\u001b[1;32m    629\u001b[0m                 self._insert(sock_info, document,\n\u001b[0;32m--> 630\u001b[0;31m                              bypass_doc_val=bypass_document_validation),\n\u001b[0m\u001b[1;32m    631\u001b[0m                 self.write_concern.acknowledged)\n\u001b[1;32m    632\u001b[0m \u001b[0;34m\u001b[0m\u001b[0m\n",
      "\u001b[0;32m//anaconda/lib/python2.7/site-packages/pymongo/collection.pyc\u001b[0m in \u001b[0;36m_insert\u001b[0;34m(self, sock_info, docs, ordered, check_keys, manipulate, write_concern, op_id, bypass_doc_val)\u001b[0m\n\u001b[1;32m    533\u001b[0m             return self._insert_one(\n\u001b[1;32m    534\u001b[0m                 \u001b[0msock_info\u001b[0m\u001b[0;34m,\u001b[0m \u001b[0mdocs\u001b[0m\u001b[0;34m,\u001b[0m \u001b[0mordered\u001b[0m\u001b[0;34m,\u001b[0m\u001b[0;34m\u001b[0m\u001b[0m\n\u001b[0;32m--> 535\u001b[0;31m                 check_keys, manipulate, write_concern, op_id, bypass_doc_val)\n\u001b[0m\u001b[1;32m    536\u001b[0m \u001b[0;34m\u001b[0m\u001b[0m\n\u001b[1;32m    537\u001b[0m         \u001b[0mids\u001b[0m \u001b[0;34m=\u001b[0m \u001b[0;34m[\u001b[0m\u001b[0;34m]\u001b[0m\u001b[0;34m\u001b[0m\u001b[0m\n",
      "\u001b[0;32m//anaconda/lib/python2.7/site-packages/pymongo/collection.pyc\u001b[0m in \u001b[0;36m_insert_one\u001b[0;34m(self, sock_info, doc, ordered, check_keys, manipulate, write_concern, op_id, bypass_doc_val)\u001b[0m\n\u001b[1;32m    515\u001b[0m                 \u001b[0mcodec_options\u001b[0m\u001b[0;34m=\u001b[0m\u001b[0mself\u001b[0m\u001b[0;34m.\u001b[0m\u001b[0m__write_response_codec_options\u001b[0m\u001b[0;34m,\u001b[0m\u001b[0;34m\u001b[0m\u001b[0m\n\u001b[1;32m    516\u001b[0m                 check_keys=check_keys)\n\u001b[0;32m--> 517\u001b[0;31m             \u001b[0m_check_write_command_response\u001b[0m\u001b[0;34m(\u001b[0m\u001b[0;34m[\u001b[0m\u001b[0;34m(\u001b[0m\u001b[0;36m0\u001b[0m\u001b[0;34m,\u001b[0m \u001b[0mresult\u001b[0m\u001b[0;34m)\u001b[0m\u001b[0;34m]\u001b[0m\u001b[0;34m)\u001b[0m\u001b[0;34m\u001b[0m\u001b[0m\n\u001b[0m\u001b[1;32m    518\u001b[0m         \u001b[0;32melse\u001b[0m\u001b[0;34m:\u001b[0m\u001b[0;34m\u001b[0m\u001b[0m\n\u001b[1;32m    519\u001b[0m             \u001b[0;31m# Legacy OP_INSERT.\u001b[0m\u001b[0;34m\u001b[0m\u001b[0;34m\u001b[0m\u001b[0m\n",
      "\u001b[0;32m//anaconda/lib/python2.7/site-packages/pymongo/helpers.pyc\u001b[0m in \u001b[0;36m_check_write_command_response\u001b[0;34m(results)\u001b[0m\n\u001b[1;32m    307\u001b[0m             \u001b[0merror\u001b[0m\u001b[0;34m[\u001b[0m\u001b[0;34m\"index\"\u001b[0m\u001b[0;34m]\u001b[0m \u001b[0;34m+=\u001b[0m \u001b[0moffset\u001b[0m\u001b[0;34m\u001b[0m\u001b[0m\n\u001b[1;32m    308\u001b[0m             \u001b[0;32mif\u001b[0m \u001b[0merror\u001b[0m\u001b[0;34m.\u001b[0m\u001b[0mget\u001b[0m\u001b[0;34m(\u001b[0m\u001b[0;34m\"code\"\u001b[0m\u001b[0;34m)\u001b[0m \u001b[0;34m==\u001b[0m \u001b[0;36m11000\u001b[0m\u001b[0;34m:\u001b[0m\u001b[0;34m\u001b[0m\u001b[0m\n\u001b[0;32m--> 309\u001b[0;31m                 \u001b[0;32mraise\u001b[0m \u001b[0mDuplicateKeyError\u001b[0m\u001b[0;34m(\u001b[0m\u001b[0merror\u001b[0m\u001b[0;34m.\u001b[0m\u001b[0mget\u001b[0m\u001b[0;34m(\u001b[0m\u001b[0;34m\"errmsg\"\u001b[0m\u001b[0;34m)\u001b[0m\u001b[0;34m,\u001b[0m \u001b[0;36m11000\u001b[0m\u001b[0;34m,\u001b[0m \u001b[0merror\u001b[0m\u001b[0;34m)\u001b[0m\u001b[0;34m\u001b[0m\u001b[0m\n\u001b[0m\u001b[1;32m    310\u001b[0m             \u001b[0;32mraise\u001b[0m \u001b[0mWriteError\u001b[0m\u001b[0;34m(\u001b[0m\u001b[0merror\u001b[0m\u001b[0;34m.\u001b[0m\u001b[0mget\u001b[0m\u001b[0;34m(\u001b[0m\u001b[0;34m\"errmsg\"\u001b[0m\u001b[0;34m)\u001b[0m\u001b[0;34m,\u001b[0m \u001b[0merror\u001b[0m\u001b[0;34m.\u001b[0m\u001b[0mget\u001b[0m\u001b[0;34m(\u001b[0m\u001b[0;34m\"code\"\u001b[0m\u001b[0;34m)\u001b[0m\u001b[0;34m,\u001b[0m \u001b[0merror\u001b[0m\u001b[0;34m)\u001b[0m\u001b[0;34m\u001b[0m\u001b[0m\n\u001b[1;32m    311\u001b[0m         \u001b[0;32melse\u001b[0m\u001b[0;34m:\u001b[0m\u001b[0;34m\u001b[0m\u001b[0m\n",
      "\u001b[0;31mDuplicateKeyError\u001b[0m: E11000 duplicate key error collection: osm_udacity.plaisir_osm index: _id_ dup key: { : ObjectId('5805c87aecf40b794d9ad942') }"
     ]
    }
   ],
   "source": [
    "def insert_data(data, db):\n",
    "    for item in data:\n",
    "        db.plaisir_osm.insert_one(item)\n",
    "\n",
    "from pymongo import MongoClient\n",
    "client = MongoClient(\"mongodb://localhost:27017\")\n",
    "db = client.osm_udacity\n",
    "\n",
    "insert_data(data, db)\n",
    "print db.plaisir_osm.find_one()"
   ]
  },
  {
   "cell_type": "code",
   "execution_count": null,
   "metadata": {
    "collapsed": true
   },
   "outputs": [],
   "source": []
  }
 ],
 "metadata": {
  "anaconda-cloud": {},
  "kernelspec": {
   "display_name": "Python [Root]",
   "language": "python",
   "name": "Python [Root]"
  },
  "language_info": {
   "codemirror_mode": {
    "name": "ipython",
    "version": 2
   },
   "file_extension": ".py",
   "mimetype": "text/x-python",
   "name": "python",
   "nbconvert_exporter": "python",
   "pygments_lexer": "ipython2",
   "version": "2.7.12"
  }
 },
 "nbformat": 4,
 "nbformat_minor": 0
}
