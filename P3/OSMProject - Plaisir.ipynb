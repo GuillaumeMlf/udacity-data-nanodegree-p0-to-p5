{
 "cells": [
  {
   "cell_type": "code",
   "execution_count": 1,
   "metadata": {
    "collapsed": false
   },
   "outputs": [],
   "source": [
    "import xml.etree.cElementTree as ET\n",
    "import pprint as pp\n",
    "import re\n",
    "import codecs\n",
    "import json\n",
    "import pymongo\n",
    "import collections as col\n",
    "from itertools import islice"
   ]
  },
  {
   "cell_type": "code",
   "execution_count": 2,
   "metadata": {
    "collapsed": true
   },
   "outputs": [],
   "source": [
    "#I choose Plaisir in France as my area (https://www.openstreetmap.org/export#map=13/48.8129/1.9484).\n",
    "#I grew up in Plaisir and that is the reason for my choice.\n",
    "#Please find the file downloadable here https://drive.google.com/open?id=0Bxw66CBwG5RORnlvbmRiNFdON2c\n",
    "\n",
    "OSM_FILE = \"plaisir.osm\""
   ]
  },
  {
   "cell_type": "code",
   "execution_count": 3,
   "metadata": {
    "collapsed": true
   },
   "outputs": [],
   "source": [
    "#Creation of a sample file\n",
    "SAMPLE_FILE = \"sample.osm\"\n",
    "\n",
    "k = 10 # Parameter: take every k-th top level element\n",
    "\n",
    "def get_element(osm_file, tags=('node', 'way', 'relation')):\n",
    "    context = iter(ET.iterparse(osm_file, events=('start', 'end')))\n",
    "    _, root = next(context)\n",
    "    for event, elem in context:\n",
    "        if event == 'end' and elem.tag in tags:\n",
    "            yield elem\n",
    "            root.clear()\n",
    "\n",
    "\n",
    "with open(SAMPLE_FILE, 'wb') as output:\n",
    "    output.write('<?xml version=\"1.0\" encoding=\"UTF-8\"?>\\n')\n",
    "    output.write('<osm>\\n  ')\n",
    "\n",
    "    # Write every kth top level element\n",
    "    for i, element in enumerate(get_element(OSM_FILE)):\n",
    "        if i % k == 0:\n",
    "            output.write(ET.tostring(element, encoding='utf-8'))\n",
    "\n",
    "    output.write('</osm>')"
   ]
  },
  {
   "cell_type": "markdown",
   "metadata": {},
   "source": [
    "# Audit of the file"
   ]
  },
  {
   "cell_type": "code",
   "execution_count": 4,
   "metadata": {
    "collapsed": false
   },
   "outputs": [
    {
     "name": "stdout",
     "output_type": "stream",
     "text": [
      "{'node': 33069, 'nd': 46051, 'member': 1718, 'tag': 14808, 'relation': 45, 'way': 5618, 'osm': 1}\n"
     ]
    }
   ],
   "source": [
    "tags = {}\n",
    "for event, elem in ET.iterparse(\"sample.osm\"):\n",
    "    if elem.tag not in tags:\n",
    "        tags[elem.tag]= 1\n",
    "    else:\n",
    "        tags[elem.tag] += 1\n",
    "print tags"
   ]
  },
  {
   "cell_type": "markdown",
   "metadata": {
    "collapsed": true
   },
   "source": [
    "**What I will do to get a better view of the file?**\n",
    "- Build a dictionnary to count :\n",
    "    - the number and types of amenity, \n",
    "    - the number and types of shops, \n",
    "    - the number and types of sport."
   ]
  },
  {
   "cell_type": "code",
   "execution_count": 5,
   "metadata": {
    "collapsed": false
   },
   "outputs": [],
   "source": [
    "tags_details = {}\n",
    "keys = [\"amenity\",\"shop\",\"sport\",\"place\",\"service\",\"building\"]\n",
    "\n",
    "def create_tags_details(binder, list_keys, filename):\n",
    "    \"\"\"\n",
    "    Create a dictionnary of every attributes value of the list of attributes key named \"keys\".\n",
    "    This function aims to help me understand what's inside the datased and what type of analysis could be made.\n",
    "    \"\"\"\n",
    "    for key in list_keys:\n",
    "        binder[key] = {}\n",
    "    for event, elem in ET.iterparse(filename, events = (\"start\",)):\n",
    "        if elem.tag == \"tag\":\n",
    "            for tag in elem.iter(\"tag\"):\n",
    "                for key in list_keys:\n",
    "                    if elem.attrib[\"k\"] == key:\n",
    "                        if tag.attrib[\"v\"] not in binder[key]:\n",
    "                            binder[key][tag.attrib[\"v\"]] = 1\n",
    "                        else:    \n",
    "                            binder[key][tag.attrib[\"v\"]] += 1\n",
    "    return binder"
   ]
  },
  {
   "cell_type": "code",
   "execution_count": 6,
   "metadata": {
    "collapsed": false
   },
   "outputs": [
    {
     "data": {
      "text/plain": [
       "{'amenity': {'atm': 2,\n",
       "  'bank': 2,\n",
       "  'bar': 2,\n",
       "  'bench': 12,\n",
       "  'bus_station': 1,\n",
       "  'cafe': 1,\n",
       "  'car_wash': 1,\n",
       "  'clock': 1,\n",
       "  'college': 1,\n",
       "  'community_centre': 1,\n",
       "  'doctors': 1,\n",
       "  'fast_food': 3,\n",
       "  'fountain': 1,\n",
       "  'fuel': 2,\n",
       "  'hospital': 1,\n",
       "  'kindergarten': 1,\n",
       "  'parking': 28,\n",
       "  'parking_entrance': 2,\n",
       "  'pharmacy': 2,\n",
       "  'place_of_worship': 2,\n",
       "  'post_box': 3,\n",
       "  'recycling': 3,\n",
       "  'restaurant': 4,\n",
       "  'school': 13,\n",
       "  'shelter': 1,\n",
       "  'swimming_pool': 8,\n",
       "  'telephone': 6,\n",
       "  'theatre': 1,\n",
       "  'vending_machine': 2,\n",
       "  'waste_basket': 11},\n",
       " 'building': {'chapel': 1,\n",
       "  'church': 1,\n",
       "  'commercial': 1,\n",
       "  'house': 16,\n",
       "  'industrial': 3,\n",
       "  'office': 1,\n",
       "  'residential': 16,\n",
       "  'roof': 1,\n",
       "  'school': 1,\n",
       "  'train_station': 1,\n",
       "  'yes': 4606},\n",
       " 'place': {'hamlet': 1, 'town': 1, 'village': 1},\n",
       " 'service': {'Parking': 1,\n",
       "  'alley': 5,\n",
       "  'driveway': 4,\n",
       "  'emergency_access': 1,\n",
       "  'parking_aisle': 43,\n",
       "  'siding': 4,\n",
       "  'yard': 3},\n",
       " 'shop': {'bakery': 3,\n",
       "  'butcher': 1,\n",
       "  'clothes': 1,\n",
       "  'convenience': 4,\n",
       "  'doityourself': 1,\n",
       "  'furniture': 1,\n",
       "  'garden_centre': 1,\n",
       "  'hairdresser': 2,\n",
       "  'shoes': 1,\n",
       "  'supermarket': 2,\n",
       "  'ticket': 1},\n",
       " 'sport': {'athletics': 2,\n",
       "  'basketball': 2,\n",
       "  'boules': 1,\n",
       "  'golf': 1,\n",
       "  'gymnastics': 1,\n",
       "  'multi': 3,\n",
       "  'soccer': 9,\n",
       "  'swimming': 5,\n",
       "  'tennis': 11}}"
      ]
     },
     "execution_count": 6,
     "metadata": {},
     "output_type": "execute_result"
    }
   ],
   "source": [
    "create_tags_details(tags_details,keys,\"sample.osm\")"
   ]
  },
  {
   "cell_type": "markdown",
   "metadata": {},
   "source": [
    "**What questions I want to answer?**\n",
    "- What is the most popular type of shop in Plaisir?\n",
    "- What is the sport with the most facilities in Plaisir?\n",
    "- Are there more restaurant or Fastfood in Plaisir?\n",
    "- Is there a correlation between the number of amenity and the number of bus stop in a given area?"
   ]
  },
  {
   "cell_type": "markdown",
   "metadata": {},
   "source": [
    "# Data cleaning plan"
   ]
  },
  {
   "cell_type": "markdown",
   "metadata": {},
   "source": [
    "- Audit and clean:\n",
    "    - addr:street \n",
    "    - addr:postcode\n",
    "    - phone:\n",
    "- Create a list with one document per tag (we will only care about node and way) and a workable structure.\n"
   ]
  },
  {
   "cell_type": "markdown",
   "metadata": {},
   "source": [
    "**Audit street names**"
   ]
  },
  {
   "cell_type": "code",
   "execution_count": 7,
   "metadata": {
    "collapsed": false
   },
   "outputs": [],
   "source": [
    "# Create a dict to store weird street types\n",
    "street_types = col.defaultdict(set)\n",
    "# Create a list listing expected street types\n",
    "expected_street_type = [\"Rue\", \"Route\", \"Ruelle\", \"Cours\", \"Avenue\", \"Impasse\", \"Mail\",\"Boulevard\", \"Square\", \"Place\", \"Allee\"]\n",
    "# Create a regular expression to isolate weird street types\n",
    "street_type_re = re.compile(r'^\\w+', re.IGNORECASE)\n",
    "\n",
    "\n",
    "def audit_street(street_types,street_name):\n",
    "    \"\"\"\n",
    "    This function aims to check if the first word of every street name matchs the list of expected word name expected_street_type.\n",
    "    If it doesn't, the first word and the complete street name are added to the street_types dictionary as a key / value pair.\n",
    "    Arg1: street_types >> the dictionary where to store the unexpected data.\n",
    "    Arg2: street_name >> the street_name to be audited.\n",
    "    \"\"\"\n",
    "    m = street_type_re.search(street_name)\n",
    "    if m:\n",
    "        street_type = m.group()\n",
    "        if street_type not in expected_street_type:\n",
    "            street_types[street_type].add(street_name)\n",
    "    \n",
    "\n",
    "def audit_street_map(file_in, street_types, pretty = False):\n",
    "    \"\"\"\n",
    "    This function aims to audit the file by isolating one by one the addr:street tags key/value pair.\n",
    "    The value of each pair is then audited thanks to the audit_street function.\n",
    "    \"\"\"\n",
    "    for _, element in ET.iterparse(file_in):\n",
    "        if element.tag == \"way\" or element.tag == \"node\":\n",
    "            for tag in element.iter(\"tag\"):\n",
    "                if tag.attrib['k'] == \"addr:street\":\n",
    "                    audit_street(street_types,tag.attrib[\"v\"])\n",
    "    pp.pprint(dict(street_types))"
   ]
  },
  {
   "cell_type": "code",
   "execution_count": 8,
   "metadata": {
    "collapsed": false
   },
   "outputs": [
    {
     "name": "stdout",
     "output_type": "stream",
     "text": [
      "{'AVE': set(['AVE DE LA REPUBLIQUE']),\n",
      " u'All': set([u\"All\\xe9e de l'Aqueduc\",\n",
      "              u'All\\xe9e de la R\\xe9union',\n",
      "              u'All\\xe9e de la pommeraie',\n",
      "              u'All\\xe9e des M\\xfbriers',\n",
      "              u'All\\xe9e des Noisetiers',\n",
      "              u'All\\xe9e des Orn\\xe9s',\n",
      "              u'All\\xe9e des Romarins',\n",
      "              u'All\\xe9e des Yvelines']),\n",
      " 'Centre': set(['Centre commercial SQY Ouest']),\n",
      " u'Chemin': set([u'Chemin D\\xe9partemental 161']),\n",
      " 'ROUTE': set(['ROUTE D ARMORIQUE']),\n",
      " 'avenue': set(['avenue Salavdor Allende', 'avenue Salvador Allende']),\n",
      " 'place': set([u'place de la M\\xe9diath\\xe8que', 'place du Beffroi']),\n",
      " 'rue': set([\"rue d'Athenes\", 'rue de la gare', 'rue du Luxembourg'])}\n"
     ]
    }
   ],
   "source": [
    "audit_street_map(\"plaisir.osm\",street_types, True)"
   ]
  },
  {
   "cell_type": "markdown",
   "metadata": {},
   "source": [
    "One street type needs to be cleaned ('AVE'). We will clean that street type when shapping our data structure. Please find below the function we'll use to clean street types."
   ]
  },
  {
   "cell_type": "code",
   "execution_count": 9,
   "metadata": {
    "collapsed": false
   },
   "outputs": [],
   "source": [
    "#check addr: with :\n",
    "lower_colon = re.compile(r'^([a-z]|_)*:([a-z]|_)*$')\n",
    "\n",
    "def clean_street_type(address_tag,address_dict):\n",
    "    \"\"\"\n",
    "    This function aims to transform address tags and add them as a key / value pair of a dedicated address dictionary. \n",
    "    The function will take the address tag and the address dictionary as arguments:\n",
    "        address_tag: every sub tag of a \"node\" or \"way\" top level tag.\n",
    "        address_dict: a dictionnary where we store key / value pair of adress elements (postcode, street, etc..)\n",
    "    The function first creates a cleaned key based on the current key of the tag by removing the \"addr:\" part of the string.\n",
    "    If after removing \"addr:\" the function still detects a colon, the tag isn't added to the dictionary because the data entry was not clean enought.\n",
    "    Else, if the value of the tag starts with \"AVE\" as first word, \"AVE\" is replaced by \"Avenue\".\n",
    "    Finally, the key / value is added to the address dictionary.\n",
    "    \"\"\"\n",
    "    key = re.sub('addr:', '', address_tag['k']).strip()\n",
    "    if lower_colon.match(key):\n",
    "        return None\n",
    "    else:\n",
    "        if address_tag['v'].startswith(\"AVE\"):\n",
    "            address_dict[key] = re.sub(r'^AVE', 'Avenue', address_tag['v'])\n",
    "        else:\n",
    "            address_dict[key] = address_tag['v']"
   ]
  },
  {
   "cell_type": "code",
   "execution_count": 10,
   "metadata": {
    "collapsed": false
   },
   "outputs": [
    {
     "name": "stdout",
     "output_type": "stream",
     "text": [
      "[('addr:housenumber11', {'housenumber': '11'}),\n",
      " ('addr:postcode78390', {'postcode': '78390'}),\n",
      " ('addr:housenumber13', {'housenumber': '13'}),\n",
      " ('addr:housenumber12', {'housenumber': '12'}),\n",
      " ('addr:housenumber15', {'housenumber': '15'}),\n",
      " ('addr:housenumber14', {'housenumber': '14'}),\n",
      " ('addr:housenumber17', {'housenumber': '17'}),\n",
      " ('addr:housenumber10', {'housenumber': '10'}),\n",
      " ('addr:housenumber19', {'housenumber': '19'}),\n",
      " ('addr:housenumber18', {'housenumber': '18'}),\n",
      " ('addr:housenumber2 B', {'housenumber': '2 B'}),\n",
      " ('addr:housenumber238', {'housenumber': '238'}),\n",
      " ('addr:postcode78640', {'postcode': '78640'}),\n",
      " (\"addr:cityBois d'Arcy\", {'city': \"Bois d'Arcy\"}),\n",
      " ('addr:streetRoute nationale 10', {'street': 'Route nationale 10'}),\n",
      " ('addr:cityLes Clayes sous Bois', {'city': 'Les Clayes sous Bois'}),\n",
      " ('addr:housenumber6 A', {'housenumber': '6 A'}),\n",
      " ('addr:housenumber6 B', {'housenumber': '6 B'}),\n",
      " ('addr:streetRue de la Gare', {'street': 'Rue de la Gare'}),\n",
      " ('addr:housenumber16', {'housenumber': '16'})]\n"
     ]
    }
   ],
   "source": [
    "\"\"\"\n",
    "Please find below a test of the function which presents how the function works.\n",
    "\"\"\"\n",
    "\n",
    "tree = ET.parse(OSM_FILE)\n",
    "root = tree.getroot()\n",
    "test_tags = root.findall(\"./node/tag\")\n",
    "\n",
    "test_address_tags_dict = {}\n",
    "\n",
    "for tag in test_tags:\n",
    "    tag_dict = {}\n",
    "    if tag.attrib['k'].startswith(\"addr:\"):\n",
    "        clean_street_type(tag.attrib,tag_dict)\n",
    "    if tag_dict:\n",
    "        test_address_tags_dict[tag.attrib['k'] + tag.attrib['v']] = tag_dict\n",
    "\n",
    "\n",
    "def take(n, iterable):\n",
    "    \"Return first n items of the iterable as a list\"\n",
    "    return list(islice(iterable, n))\n",
    "\n",
    "pp.pprint(take(20, test_address_tags_dict.iteritems()))"
   ]
  },
  {
   "cell_type": "markdown",
   "metadata": {},
   "source": [
    "**Audit postcodes**"
   ]
  },
  {
   "cell_type": "code",
   "execution_count": 11,
   "metadata": {
    "collapsed": true
   },
   "outputs": [],
   "source": [
    "# Create a set to store weird postcodes\n",
    "postcodes = set()\n",
    "# Create a regular expression to isolate weird postcodes\n",
    "postcode_re = re.compile(r'\\d\\d\\d\\d\\d', re.IGNORECASE)\n",
    "\n",
    "\n",
    "def audit_postcode(postcodes,postcode):\n",
    "    \"\"\"\n",
    "    This function aims to check if the postcode matchs the expected format.\n",
    "    If it doesn't, the postcode is added to a dictionary.\n",
    "    Arg1: postcodes >> the dictionary where to store the unexpected data.\n",
    "    Arg2: postcode >> the postcode to be audited.\n",
    "    \"\"\"\n",
    "    m = postcode_re.search(postcode)\n",
    "    if m == None:\n",
    "        postcodes.add(postcode)\n",
    "    \n",
    "\n",
    "def audit_postcode_map(file_in, postcodes, pretty = False):\n",
    "    \"\"\"\n",
    "    This function aims to audit the file by isolating one by one the postcode tags key/value pair.\n",
    "    The value of each pair is then audited thanks to the audit_postcode function.\n",
    "    \"\"\"\n",
    "    for _, element in ET.iterparse(file_in):\n",
    "        if element.tag == \"way\" or element.tag == \"node\":\n",
    "            for tag in element.iter(\"tag\"):\n",
    "                if tag.attrib['k'] == \"addr:postcode\":\n",
    "                    audit_postcode(postcodes,tag.attrib[\"v\"])\n",
    "    pp.pprint(postcodes)"
   ]
  },
  {
   "cell_type": "code",
   "execution_count": 12,
   "metadata": {
    "collapsed": false
   },
   "outputs": [
    {
     "name": "stdout",
     "output_type": "stream",
     "text": [
      "set([])\n"
     ]
    }
   ],
   "source": [
    "audit_postcode_map(\"plaisir.osm\",postcodes, True)"
   ]
  },
  {
   "cell_type": "markdown",
   "metadata": {},
   "source": [
    "Postcode are already clean."
   ]
  },
  {
   "cell_type": "markdown",
   "metadata": {},
   "source": [
    "**Audit phone numbers**"
   ]
  },
  {
   "cell_type": "code",
   "execution_count": 13,
   "metadata": {
    "collapsed": true
   },
   "outputs": [],
   "source": [
    "# Create a list to store weird phone numbers\n",
    "phone_numbers = []\n",
    "# Create a regular expression to isolate\n",
    "phone_re = re.compile(r'\\+\\d\\d\\s\\d\\s\\d\\d\\s\\d\\d\\s\\d\\d\\s\\d\\d', re.IGNORECASE)\n",
    "\n",
    "\n",
    "def audit_phone(phone_numbers,phone_number):\n",
    "    \"\"\"\n",
    "    This function aims to check if the phone number matchs the expected format.\n",
    "    If it doesn't, the phone number is added to a dictionary.\n",
    "    Arg1: phone_numbers >> the dictionary where to store the unexpected data.\n",
    "    Arg2: phone_number >> the phone number to be audited.\n",
    "    \"\"\"\n",
    "    m = phone_re.search(phone_number)\n",
    "    if m == None:\n",
    "        phone_numbers.append(phone_number)\n",
    "    \n",
    "\n",
    "def audit_phone_map(file_in, phone_numbers, pretty = False):\n",
    "    \"\"\"\n",
    "    This function aims to audit the file by isolating one by one the phone tags key/value pair.\n",
    "    The value of each pair is then audited thanks to the audit_phone function.\n",
    "    \"\"\"\n",
    "    for _, element in ET.iterparse(file_in):\n",
    "        if element.tag == \"way\" or element.tag == \"node\":\n",
    "            for tag in element.iter(\"tag\"):\n",
    "                if tag.attrib['k'] == \"phone\":\n",
    "                    audit_phone(phone_numbers,tag.attrib[\"v\"])\n",
    "    return phone_numbers"
   ]
  },
  {
   "cell_type": "code",
   "execution_count": 14,
   "metadata": {
    "collapsed": false
   },
   "outputs": [
    {
     "data": {
      "text/plain": [
       "['0130544500',\n",
       " '3631',\n",
       " '3631',\n",
       " '01.34.89.49.05',\n",
       " '01.30.80.03.60',\n",
       " '01.34.89.78.00',\n",
       " '01.34.89.18.70',\n",
       " '01.34.81.14.10',\n",
       " '01.34.89.61.89',\n",
       " '01.34.89.47.26',\n",
       " '0130969600',\n",
       " '3631',\n",
       " '3631',\n",
       " '3631',\n",
       " '3631',\n",
       " '01 77 04 10 17',\n",
       " '01 30 64 99 55',\n",
       " '3631',\n",
       " '0130629918',\n",
       " '3631',\n",
       " '3631',\n",
       " '0134890166',\n",
       " '01 34 81 10 17',\n",
       " '01 30 57 22 22',\n",
       " '01 30 60 04 37',\n",
       " '01 30 55 30 50',\n",
       " '01 30 81 61 14',\n",
       " '01 30 55 81 82',\n",
       " '01 30 07 52 20',\n",
       " '01 30 68 90 90',\n",
       " '01 30 55 21 92',\n",
       " '01 30 55 86 45',\n",
       " '01 30 55 35 39',\n",
       " '01 61 38 94 05',\n",
       " '01 30 79 09 41',\n",
       " '+33 1 30644688',\n",
       " '01 30 50 97 21',\n",
       " '3631',\n",
       " '01 30 55 60 06',\n",
       " '01 30 07 77 77',\n",
       " '+33 130547456',\n",
       " '+33 130540064',\n",
       " '3631']"
      ]
     },
     "execution_count": 14,
     "metadata": {},
     "output_type": "execute_result"
    }
   ],
   "source": [
    "audit_phone_map(\"plaisir.osm\",phone_numbers, True)"
   ]
  },
  {
   "cell_type": "markdown",
   "metadata": {},
   "source": [
    "Phone numbers need to be cleaned to match the following pattern (+33 X XX XX XX XX). We will clean that street type when shapping our data structure.</br>\n",
    "\n",
    "Here are the different case we want to treat:\n",
    "-'XX XX XX XX XX'\n",
    "-'XX.XX.XX.XX.XX'\n",
    "-'XXXXXXXXXX'\n",
    "\n",
    "Please find below the function we'll use to clean phone numbers."
   ]
  },
  {
   "cell_type": "code",
   "execution_count": 15,
   "metadata": {
    "collapsed": true
   },
   "outputs": [],
   "source": [
    "#classic phone number format in France (ie: 01 30 55 84 22)\n",
    "classic_france = re.compile(r'\\d\\d\\s\\d\\d\\s\\d\\d\\s\\d\\d\\s\\d\\d')\n",
    "#classic phone number format with dots in France (ie: 01.30.55.84.22)\n",
    "classic_france_dot = re.compile(r'\\d\\d\\.\\d\\d\\.\\d\\d\\.\\d\\d\\.\\d\\d')\n",
    "#compressed phone number format in France (ie: 0130558422)\n",
    "classic_france_compiled = re.compile(r'\\d\\d\\d\\d\\d\\d\\d\\d\\d\\d')\n",
    "#wrong format\n",
    "\n",
    "def clean_phone_numbers(phone_tag,main_dict):\n",
    "    \"\"\"\n",
    "    This function aims to clean phone tags and add them as a key / value pair of our node dictionary. \n",
    "    The function will take the phone tag and the main dictionary as arguments:\n",
    "        phone_tag: every phone sub tag of a \"node\" or \"way\" top level tag.\n",
    "        main_dict: a dictionnary where we store key / value pair of each elements of our map.\n",
    "    The function first identifies if the phone number follow one of the wrong pattern we identified during our audit.\n",
    "    Using regex, we try to match every pattern and apply the necessary modifications when it's relevant and then store the phone number in the the dictionary.\n",
    "    Else, we store directly the phone number in the dictionary.  \n",
    "    \"\"\"\n",
    "    if classic_france.match(phone_tag['v']):\n",
    "        value = re.sub(r'^\\d', '+33 ', phone_tag['v'])\n",
    "        main_dict[phone_tag['k']] = value\n",
    "    elif classic_france_dot.match(phone_tag['v']):\n",
    "        value = re.sub(r'^\\d', '+33 ', phone_tag['v'])\n",
    "        value = re.sub(r'\\.', ' ', value)\n",
    "        main_dict[phone_tag['k']] = value\n",
    "    elif classic_france_compiled.match(phone_tag['v']):\n",
    "        value = \" \".join(phone_tag['v'][i:i+2] for i in range(0, len(phone_tag['v']), 2))\n",
    "        value = re.sub(r'^\\d', '+33 ', value)\n",
    "        main_dict[phone_tag['k']] = value\n",
    "    else:\n",
    "        main_dict[phone_tag['k']] = phone_tag['v']"
   ]
  },
  {
   "cell_type": "code",
   "execution_count": 16,
   "metadata": {
    "collapsed": false,
    "scrolled": true
   },
   "outputs": [
    {
     "name": "stdout",
     "output_type": "stream",
     "text": [
      "[('phone 01 30 79 09 41', {'phone': '+33 1 30 79 09 41'}),\n",
      " ('phone +33 1 30 13 01 20', {'phone': '+33 1 30 13 01 20'}),\n",
      " ('phone 01.34.89.78.00', {'phone': '+33 1 34 89 78 00'}),\n",
      " ('phone 01.34.89.61.89', {'phone': '+33 1 34 89 61 89'}),\n",
      " ('phone 0130629918', {'phone': '+33 1 30 62 99 18'}),\n",
      " ('phone 01 61 38 94 05', {'phone': '+33 1 61 38 94 05'}),\n",
      " ('phone 01.34.89.49.05', {'phone': '+33 1 34 89 49 05'}),\n",
      " ('phone 01 30 57 22 22', {'phone': '+33 1 30 57 22 22'}),\n",
      " ('phone 01 30 07 52 20', {'phone': '+33 1 30 07 52 20'}),\n",
      " ('phone +33 1 30 55 78 88', {'phone': '+33 1 30 55 78 88'}),\n",
      " ('phone 01.34.89.18.70', {'phone': '+33 1 34 89 18 70'}),\n",
      " ('phone 0134890166', {'phone': '+33 1 34 89 01 66'}),\n",
      " ('phone 01 30 55 30 50', {'phone': '+33 1 30 55 30 50'}),\n",
      " ('phone 01.34.81.14.10', {'phone': '+33 1 34 81 14 10'}),\n",
      " ('phone +33 1 30 45 41 84', {'phone': '+33 1 30 45 41 84'}),\n",
      " ('phone 01.34.89.47.26', {'phone': '+33 1 34 89 47 26'}),\n",
      " ('phone 01 30 64 99 55', {'phone': '+33 1 30 64 99 55'}),\n",
      " ('phone +33 1 30 79 39 39', {'phone': '+33 1 30 79 39 39'}),\n",
      " ('phone 3631', {'phone': '3631'}),\n",
      " ('phone 01 30 68 90 90', {'phone': '+33 1 30 68 90 90'})]\n"
     ]
    }
   ],
   "source": [
    "\"\"\"\n",
    "Please find below a test of the function which presents how the function works.\n",
    "\"\"\"\n",
    "\n",
    "test_phone_tags_dict = {}\n",
    "\n",
    "for tag in test_tags:\n",
    "    tag_dict = {}\n",
    "    if tag.attrib['k'] == \"phone\":\n",
    "        clean_phone_numbers(tag.attrib,tag_dict)\n",
    "    if tag_dict:\n",
    "        test_phone_tags_dict[tag.attrib['k'] + \" \" + tag.attrib['v']] = tag_dict\n",
    "\n",
    "pp.pprint(take(20, test_phone_tags_dict.iteritems()))"
   ]
  },
  {
   "cell_type": "markdown",
   "metadata": {},
   "source": [
    "**Shape data**"
   ]
  },
  {
   "cell_type": "code",
   "execution_count": 17,
   "metadata": {
    "collapsed": true
   },
   "outputs": [],
   "source": [
    "CREATED = [ \"version\", \"changeset\", \"timestamp\", \"user\", \"uid\"]\n",
    "POS = [\"lon\",\"lat\"]\n",
    "BUILDING_TYPES = [\"amenity\",\"shop\",\"sport\",\"place\",\"service\",\"building\",\"highway\"]\n",
    "\n",
    "def shape_element(element):\n",
    "    \"\"\"\n",
    "    This function aims to shape every element of our XML file.\n",
    "    Each top level node of the XML file is reviewed by this function which creates a dedicated dictionary called \"node\".\n",
    "    Each node dictionary is then added to the data list. This list will be the file inserted into MongoDb.\n",
    "    \"\"\"\n",
    "    node = {}\n",
    "    pos = []\n",
    "    node_refs = []\n",
    "    created = {}\n",
    "    address = {}\n",
    "    types = {}\n",
    "    if element.tag == \"node\" or element.tag == \"way\" :\n",
    "        types['type'] = element.tag\n",
    "        if 'lat' in element.attrib.keys() and 'lon' in element.attrib.keys():\n",
    "            try:\n",
    "                lat = float(element.attrib['lat'])\n",
    "                lon = float(element.attrib['lon'])\n",
    "                pos.insert(0,lat)\n",
    "                pos.insert(1,lon)\n",
    "            except:\n",
    "                pass\n",
    "        for k, m in element.attrib.items():\n",
    "            if k not in POS:\n",
    "                if k in CREATED:\n",
    "                    created[k] = m\n",
    "                else:\n",
    "                    node[k] = m\n",
    "\n",
    "        for child in element:\n",
    "            if child.tag == \"nd\":\n",
    "                node_refs.append(child.attrib['ref'])\n",
    "            elif child.tag == \"tag\":\n",
    "                if child.attrib['k'].startswith(\"addr:\"):\n",
    "                    clean_street_type(child.attrib,address)\n",
    "                elif child.attrib['k'] == 'phone':\n",
    "                    clean_phone_numbers(child.attrib,node)\n",
    "                elif child.attrib['k'] in BUILDING_TYPES:\n",
    "                    types[child.attrib['k']] = child.attrib['v']\n",
    "        if types:\n",
    "            node['types'] = types\n",
    "        if created:\n",
    "            node['created'] = created\n",
    "        if pos:\n",
    "            node['pos'] = pos\n",
    "        if address:\n",
    "            node['address'] = address\n",
    "        if node_refs:\n",
    "            node['node_refs'] = node_refs\n",
    "        return node\n",
    "    else:\n",
    "        return None\n",
    "    \n",
    "def process_map(file_in, pretty = False):\n",
    "    data = []\n",
    "    for _, element in ET.iterparse(file_in):\n",
    "        el = shape_element(element)\n",
    "        if el:\n",
    "            data.append(el)\n",
    "    return data"
   ]
  },
  {
   "cell_type": "code",
   "execution_count": 18,
   "metadata": {
    "collapsed": false
   },
   "outputs": [],
   "source": [
    "data = process_map('plaisir.osm', True)"
   ]
  },
  {
   "cell_type": "markdown",
   "metadata": {},
   "source": [
    "# Insert data in MongoDb"
   ]
  },
  {
   "cell_type": "code",
   "execution_count": 31,
   "metadata": {
    "collapsed": false
   },
   "outputs": [],
   "source": [
    "from pymongo import MongoClient\n",
    "client = MongoClient(\"mongodb://localhost:27017\")\n",
    "db = client.osm_udacity"
   ]
  },
  {
   "cell_type": "code",
   "execution_count": 33,
   "metadata": {
    "collapsed": false
   },
   "outputs": [
    {
     "name": "stdout",
     "output_type": "stream",
     "text": [
      "{u'_id': ObjectId('5808e12aecf40b89c0aaa0a2'), u'created': {u'changeset': u'12277498', u'version': u'3', u'user': u'gwen_lr', u'timestamp': u'2012-07-18T10:30:48Z', u'uid': u'739102'}, u'pos': [48.7723763, 2.0117414], u'types': {u'type': u'node'}, u'id': u'4998993'}\n"
     ]
    }
   ],
   "source": [
    "from bson.objectid import ObjectId \n",
    "\n",
    "def insert_data(data, db):\n",
    "    for item in data:\n",
    "        item['_id'] = ObjectId()\n",
    "        db.plaisir_osm.insert_one(item)\n",
    "\n",
    "insert_data(data, db)\n",
    "print db.plaisir_osm.find_one()"
   ]
  },
  {
   "cell_type": "markdown",
   "metadata": {
    "collapsed": true
   },
   "source": [
    "# Querying the MongoDb"
   ]
  },
  {
   "cell_type": "code",
   "execution_count": 34,
   "metadata": {
    "collapsed": false
   },
   "outputs": [
    {
     "name": "stdout",
     "output_type": "stream",
     "text": [
      "[{u'_id': u'node', u'count': 661374}, {u'_id': u'way', u'count': 112364}]\n"
     ]
    }
   ],
   "source": [
    "def make_group_pipeline(type_node):\n",
    "    pipeline = [{'$group':{'_id':type_node,'count':{'$sum':1}}},\n",
    "                {'$sort':{'count':-1}},\n",
    "                {'$limit' : 5 }\n",
    "    ]\n",
    "    return pipeline\n",
    "\n",
    "\n",
    "def aggregate(db, pipeline):\n",
    "    return [doc for doc in db.aggregate(pipeline)]\n",
    "\n",
    "pipeline = make_group_pipeline('$types.type')\n",
    "result = aggregate(db.plaisir_osm, pipeline)\n",
    "pp.pprint(result)"
   ]
  },
  {
   "cell_type": "markdown",
   "metadata": {},
   "source": [
    "# Answering question"
   ]
  },
  {
   "cell_type": "markdown",
   "metadata": {},
   "source": [
    "**What is the most popular type of shop in Plaisir?**"
   ]
  },
  {
   "cell_type": "code",
   "execution_count": 35,
   "metadata": {
    "collapsed": false
   },
   "outputs": [
    {
     "name": "stdout",
     "output_type": "stream",
     "text": [
      "[{u'_id': None, u'count': 773382},\n",
      " {u'_id': u'bakery', u'count': 38},\n",
      " {u'_id': u'supermarket', u'count': 36},\n",
      " {u'_id': u'convenience', u'count': 34},\n",
      " {u'_id': u'car_repair', u'count': 30}]\n"
     ]
    }
   ],
   "source": [
    "pipeline_shop = make_group_pipeline('$types.shop')\n",
    "result_shop = aggregate(db.plaisir_osm, pipeline_shop)\n",
    "pp.pprint(result_shop)"
   ]
  },
  {
   "cell_type": "markdown",
   "metadata": {},
   "source": [
    "Bakery is the most popular shop in Plaisir. No kidding.. Plaisir is in France :)"
   ]
  },
  {
   "cell_type": "markdown",
   "metadata": {},
   "source": [
    "**What is the sport with the most facilities in Plaisir?**"
   ]
  },
  {
   "cell_type": "code",
   "execution_count": 36,
   "metadata": {
    "collapsed": false
   },
   "outputs": [
    {
     "name": "stdout",
     "output_type": "stream",
     "text": [
      "[{u'_id': None, u'count': 773042},\n",
      " {u'_id': u'tennis', u'count': 226},\n",
      " {u'_id': u'swimming', u'count': 150},\n",
      " {u'_id': u'soccer', u'count': 86},\n",
      " {u'_id': u'multi', u'count': 70}]\n"
     ]
    }
   ],
   "source": [
    "pipeline_sport = make_group_pipeline('$types.sport')\n",
    "result_sport = aggregate(db.plaisir_osm, pipeline_sport)\n",
    "pp.pprint(result_sport)"
   ]
  },
  {
   "cell_type": "markdown",
   "metadata": {},
   "source": [
    "Tennis is the sport with the most facilities in Plaisir."
   ]
  },
  {
   "cell_type": "markdown",
   "metadata": {},
   "source": [
    "**Are there more restaurant or Fastfood in Plaisir?**"
   ]
  },
  {
   "cell_type": "code",
   "execution_count": 37,
   "metadata": {
    "collapsed": false
   },
   "outputs": [
    {
     "name": "stdout",
     "output_type": "stream",
     "text": [
      "[{u'_id': u'restaurant', u'count': 70}, {u'_id': u'fast_food', u'count': 24}]\n"
     ]
    }
   ],
   "source": [
    "pipeline_restaurant = [{'$match': {\"$or\" : [{\"types.amenity\": \"restaurant\"},{\"types.amenity\":\"fast_food\"}]}},\n",
    "                       {'$group':{'_id':'$types.amenity','count':{'$sum':1}}},\n",
    "                       {'$sort':{'count':-1}}]\n",
    "result_restaurant = aggregate(db.plaisir_osm, pipeline_restaurant)\n",
    "pp.pprint(result_restaurant)"
   ]
  },
  {
   "cell_type": "markdown",
   "metadata": {},
   "source": [
    "There are more restaurant than fast_food in Plaisir.. Good news....."
   ]
  },
  {
   "cell_type": "markdown",
   "metadata": {},
   "source": [
    "**Is there a correlation between the number of amenity and the number of bus stop in a given area?**"
   ]
  },
  {
   "cell_type": "code",
   "execution_count": 38,
   "metadata": {
    "collapsed": false
   },
   "outputs": [
    {
     "name": "stdout",
     "output_type": "stream",
     "text": [
      "{u'_id': ObjectId('5808e3abecf40b89c0adb46d'),\n",
      " u'created': {u'changeset': u'7891932',\n",
      "              u'timestamp': u'2011-04-17T21:36:26Z',\n",
      "              u'uid': u'185687',\n",
      "              u'user': u'apollinaire',\n",
      "              u'version': u'1'},\n",
      " u'id': u'1249128435',\n",
      " u'pos': [48.772105, 1.951118],\n",
      " u'types': {u'type': u'node'}}\n"
     ]
    }
   ],
   "source": [
    "#check of the geospacial index - the few lines below are here to check that the 2d index is properly working.\n",
    "for doc in db.plaisir_osm.find({'pos': {'$near' : [48.5,1.95]}}):\n",
    "    pp.pprint(doc)\n",
    "    break"
   ]
  },
  {
   "cell_type": "code",
   "execution_count": 39,
   "metadata": {
    "collapsed": true
   },
   "outputs": [],
   "source": [
    "#Get max and min latitude and longitude"
   ]
  },
  {
   "cell_type": "code",
   "execution_count": 40,
   "metadata": {
    "collapsed": false
   },
   "outputs": [
    {
     "name": "stdout",
     "output_type": "stream",
     "text": [
      "{u'_id': u'null',\n",
      " u'maxLat': 48.8535998,\n",
      " u'maxLon': 2.0419,\n",
      " u'minLat': 48.7721,\n",
      " u'minLon': 1.8548085}\n"
     ]
    }
   ],
   "source": [
    "for doc in db.plaisir_osm.aggregate([\n",
    "    { \"$unwind\": \"$pos\" },\n",
    "    { \"$group\": { \n",
    "        \"_id\": \"$_id\",\n",
    "        \"lat\": { \"$first\": \"$pos\" },\n",
    "        \"lon\": { \"$last\": \"$pos\" }\n",
    "    }},\n",
    "    { \"$group\": {\n",
    "        \"_id\": \"null\",\n",
    "        \"minLat\": { \"$min\": \"$lat\" },\n",
    "        \"minLon\": { \"$min\": \"$lon\" },\n",
    "        \"maxLat\": { \"$max\": \"$lat\" },\n",
    "        \"maxLon\": { \"$max\": \"$lon\" }\n",
    "    }}\n",
    "]):\n",
    "    pp.pprint(doc)"
   ]
  },
  {
   "cell_type": "markdown",
   "metadata": {},
   "source": [
    "**What I need to do:**\n",
    "- Aggregate the number of amenity and bus stops by box of 0.02 latitude and 0.01 longitude\n",
    "- remove empty box from my list\n",
    "- calculate the correlation"
   ]
  },
  {
   "cell_type": "code",
   "execution_count": 41,
   "metadata": {
    "collapsed": false
   },
   "outputs": [],
   "source": [
    "main_dict = {}\n",
    "\n",
    "def frange(start, stop, step):\n",
    "    i = start\n",
    "    while i < stop:\n",
    "        yield i\n",
    "        i += step\n",
    "\n",
    "for lat in frange(48.76,48.86,0.01):\n",
    "    for lon in frange(1.85,2.05,0.02):\n",
    "        main_dict[str(lon) + \" - \" + str(lat)] = {}\n",
    "        bus_stop = 0\n",
    "        amenity = 0\n",
    "        for doc in db.plaisir_osm.find({'pos': { '$geoWithin': { '$box':  [ [ lat, lon ], [ (lat + 0.01), (lon + 0.02) ] ] } }}):\n",
    "            if 'highway' in doc['types']:\n",
    "                if doc['types']['highway'] == \"bus_stop\":\n",
    "                    bus_stop += 1\n",
    "            elif 'amenity' in doc['types']:\n",
    "                if doc['types']['amenity'] == 'bench':\n",
    "                    pass\n",
    "                else:\n",
    "                    amenity += 1\n",
    "        main_dict[str(lon) + \" - \" + str(lat)]['bus_stop'] = bus_stop\n",
    "        main_dict[str(lon) + \" - \" + str(lat)]['amenity'] = amenity"
   ]
  },
  {
   "cell_type": "code",
   "execution_count": 42,
   "metadata": {
    "collapsed": false
   },
   "outputs": [],
   "source": [
    "new_dict = {}\n",
    "for key in main_dict:\n",
    "    if main_dict[key]['amenity'] != 0 and main_dict[key]['bus_stop'] != 0:\n",
    "        new_dict[key] = main_dict[key]"
   ]
  },
  {
   "cell_type": "code",
   "execution_count": 43,
   "metadata": {
    "collapsed": false
   },
   "outputs": [],
   "source": [
    "#Now that the dictionnary is ready for the analysis, I can move forward using Pandas."
   ]
  },
  {
   "cell_type": "code",
   "execution_count": 44,
   "metadata": {
    "collapsed": false
   },
   "outputs": [],
   "source": [
    "%matplotlib inline\n",
    "import seaborn as sns\n",
    "import matplotlib\n",
    "import numpy as np\n",
    "import matplotlib.pyplot as plt\n",
    "import pandas as pd\n",
    "df =  pd.DataFrame.from_dict(new_dict,orient=\"index\")"
   ]
  },
  {
   "cell_type": "code",
   "execution_count": 45,
   "metadata": {
    "collapsed": false,
    "scrolled": true
   },
   "outputs": [
    {
     "data": {
      "text/plain": [
       "<matplotlib.axes._subplots.AxesSubplot at 0x1190aa4d0>"
      ]
     },
     "execution_count": 45,
     "metadata": {},
     "output_type": "execute_result"
    },
    {
     "data": {
      "image/png": "[encoded data removed]",
      "text/plain": [
       "<matplotlib.figure.Figure at 0x1197599d0>"
      ]
     },
     "metadata": {},
     "output_type": "display_data"
    }
   ],
   "source": [
    "df2 = df.groupby('amenity').aggregate(np.average)\n",
    "df2.plot()"
   ]
  },
  {
   "cell_type": "markdown",
   "metadata": {},
   "source": [
    "Looking at this plot, we can easily conclude that there is not correlation between the number of amenity and the number of "
   ]
  },
  {
   "cell_type": "markdown",
   "metadata": {},
   "source": [
    "# Other ideas about the datasets"
   ]
  },
  {
   "cell_type": "markdown",
   "metadata": {},
   "source": [
    "In order to improve the datasets and easy the analysis, we could implement:\n",
    "- an advised format for numerical and non-numerical values when it makes sense (address types, phone numbers, etc.).\n",
    "- some automatic corrections of values entered in these fields which might cover the main errors encountered (ie: the main deviant format).\n",
    "- some mandatory fields could be interesting as well to ensure the completeness of the data linked to a specific element."
   ]
  },
  {
   "cell_type": "markdown",
   "metadata": {},
   "source": [
    "Pro / Cons regarding these suggestions:\n",
    "- the first and the second suggestions will help a lot regarding the consistensy and the uniformity of the data while not limiting the freedom of participation. These one should be implemented ASAP.\n",
    "- the third suggestion might not work with a project like OSM where everything is created collaboratively. The challenge of such a project is to provide an easy way to participate (even in a wrong way) but to bet on the facility to modify / review so that the quality of the data is ensured by all. Mandatory fields would introduce a lot of friction to the participation and might endanger the project."
   ]
  }
 ],
 "metadata": {
  "anaconda-cloud": {},
  "kernelspec": {
   "display_name": "Python [Root]",
   "language": "python",
   "name": "Python [Root]"
  },
  "language_info": {
   "codemirror_mode": {
    "name": "ipython",
    "version": 2
   },
   "file_extension": ".py",
   "mimetype": "text/x-python",
   "name": "python",
   "nbconvert_exporter": "python",
   "pygments_lexer": "ipython2",
   "version": "2.7.12"
  }
 },
 "nbformat": 4,
 "nbformat_minor": 0
}
