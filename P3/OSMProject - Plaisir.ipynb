{
 "cells": [
  {
   "cell_type": "code",
   "execution_count": 41,
   "metadata": {
    "collapsed": false
   },
   "outputs": [],
   "source": [
    "import xml.etree.cElementTree as ET\n",
    "import pprint as pp\n",
    "import re\n",
    "import codecs\n",
    "import json\n",
    "import pymongo"
   ]
  },
  {
   "cell_type": "code",
   "execution_count": 129,
   "metadata": {
    "collapsed": true
   },
   "outputs": [],
   "source": [
    "#I choose plaisir in France as my area (https://www.openstreetmap.org/export#map=13/48.8129/1.9484) because I grew up there!\n",
    "OSM_FILE = \"plaisir.osm\""
   ]
  },
  {
   "cell_type": "code",
   "execution_count": 4,
   "metadata": {
    "collapsed": true
   },
   "outputs": [],
   "source": [
    "SAMPLE_FILE = \"sample.osm\"\n",
    "\n",
    "k = 10 # Parameter: take every k-th top level element\n",
    "\n",
    "def get_element(osm_file, tags=('node', 'way', 'relation')):\n",
    "    context = iter(ET.iterparse(osm_file, events=('start', 'end')))\n",
    "    _, root = next(context)\n",
    "    for event, elem in context:\n",
    "        if event == 'end' and elem.tag in tags:\n",
    "            yield elem\n",
    "            root.clear()\n",
    "\n",
    "\n",
    "with open(SAMPLE_FILE, 'wb') as output:\n",
    "    output.write('<?xml version=\"1.0\" encoding=\"UTF-8\"?>\\n')\n",
    "    output.write('<osm>\\n  ')\n",
    "\n",
    "    # Write every kth top level element\n",
    "    for i, element in enumerate(get_element(OSM_FILE)):\n",
    "        if i % k == 0:\n",
    "            output.write(ET.tostring(element, encoding='utf-8'))\n",
    "\n",
    "    output.write('</osm>')"
   ]
  },
  {
   "cell_type": "markdown",
   "metadata": {},
   "source": [
    "# First view of the file"
   ]
  },
  {
   "cell_type": "code",
   "execution_count": 5,
   "metadata": {
    "collapsed": false
   },
   "outputs": [],
   "source": [
    "tree = ET.parse(\"sample.osm\")\n",
    "root = tree.getroot()"
   ]
  },
  {
   "cell_type": "code",
   "execution_count": 6,
   "metadata": {
    "collapsed": false
   },
   "outputs": [
    {
     "name": "stdout",
     "output_type": "stream",
     "text": [
      "\n",
      "Children of root:\n",
      "set(['node', 'relation', 'way'])\n"
     ]
    }
   ],
   "source": [
    "print \"\\nChildren of root:\"\n",
    "childs = set()\n",
    "for child in root:\n",
    "    childs.add(child.tag)\n",
    "print childs"
   ]
  },
  {
   "cell_type": "code",
   "execution_count": 7,
   "metadata": {
    "collapsed": false,
    "scrolled": false
   },
   "outputs": [
    {
     "name": "stdout",
     "output_type": "stream",
     "text": [
      "\n",
      "Children of childrens of root\n",
      "{'node': set(['tag']), 'relation': set(['member', 'tag']), 'way': set(['tag', 'nd'])}\n"
     ]
    }
   ],
   "source": [
    "print \"\\nChildren of childrens of root\"\n",
    "children = {}\n",
    "children[\"node\"] = set()\n",
    "children[\"relation\"] = set()\n",
    "children[\"way\"] = set()\n",
    "for child in root:\n",
    "    for i in child:\n",
    "        children[child.tag].add(i.tag)\n",
    "print children"
   ]
  },
  {
   "cell_type": "markdown",
   "metadata": {},
   "source": [
    "# Audit of the file"
   ]
  },
  {
   "cell_type": "code",
   "execution_count": 8,
   "metadata": {
    "collapsed": false
   },
   "outputs": [
    {
     "name": "stdout",
     "output_type": "stream",
     "text": [
      "{'node': 33069, 'nd': 46051, 'member': 1718, 'tag': 14808, 'relation': 45, 'way': 5618, 'osm': 1}\n"
     ]
    }
   ],
   "source": [
    "tags = {}\n",
    "for event, elem in ET.iterparse(\"sample.osm\"):\n",
    "    if elem.tag not in tags:\n",
    "        tags[elem.tag]= 1\n",
    "    else:\n",
    "        tags[elem.tag] += 1\n",
    "print tags"
   ]
  },
  {
   "cell_type": "markdown",
   "metadata": {
    "collapsed": true
   },
   "source": [
    "**What I will do to get a better view of the file?**\n",
    "- Build a dictionnary to count :\n",
    "    - the number and types of amenity, \n",
    "    - the number and types of shops, \n",
    "    - the number and types of sport."
   ]
  },
  {
   "cell_type": "code",
   "execution_count": 9,
   "metadata": {
    "collapsed": false
   },
   "outputs": [],
   "source": [
    "tags_details = {}\n",
    "keys = [\"amenity\",\"shop\",\"sport\",\"place\",\"service\",\"building\"]\n",
    "\n",
    "def create_tags_details(binder, list_keys, filename):\n",
    "    for key in list_keys:\n",
    "        binder[key] = {}\n",
    "    for event, elem in ET.iterparse(filename, events = (\"start\",)):\n",
    "        if elem.tag == \"tag\":\n",
    "            for tag in elem.iter(\"tag\"):\n",
    "                for key in list_keys:\n",
    "                    if elem.attrib[\"k\"] == key:\n",
    "                        if tag.attrib[\"v\"] not in binder[key]:\n",
    "                            binder[key][tag.attrib[\"v\"]] = 1\n",
    "                        else:    \n",
    "                            binder[key][tag.attrib[\"v\"]] += 1\n",
    "    return pp.pprint(binder)"
   ]
  },
  {
   "cell_type": "code",
   "execution_count": 10,
   "metadata": {
    "collapsed": false
   },
   "outputs": [
    {
     "name": "stdout",
     "output_type": "stream",
     "text": [
      "{'amenity': {'atm': 2,\n",
      "             'bank': 2,\n",
      "             'bar': 2,\n",
      "             'bench': 12,\n",
      "             'bus_station': 1,\n",
      "             'cafe': 1,\n",
      "             'car_wash': 1,\n",
      "             'clock': 1,\n",
      "             'college': 1,\n",
      "             'community_centre': 1,\n",
      "             'doctors': 1,\n",
      "             'fast_food': 3,\n",
      "             'fountain': 1,\n",
      "             'fuel': 2,\n",
      "             'hospital': 1,\n",
      "             'kindergarten': 1,\n",
      "             'parking': 28,\n",
      "             'parking_entrance': 2,\n",
      "             'pharmacy': 2,\n",
      "             'place_of_worship': 2,\n",
      "             'post_box': 3,\n",
      "             'recycling': 3,\n",
      "             'restaurant': 4,\n",
      "             'school': 13,\n",
      "             'shelter': 1,\n",
      "             'swimming_pool': 8,\n",
      "             'telephone': 6,\n",
      "             'theatre': 1,\n",
      "             'vending_machine': 2,\n",
      "             'waste_basket': 11},\n",
      " 'building': {'chapel': 1,\n",
      "              'church': 1,\n",
      "              'commercial': 1,\n",
      "              'house': 16,\n",
      "              'industrial': 3,\n",
      "              'office': 1,\n",
      "              'residential': 16,\n",
      "              'roof': 1,\n",
      "              'school': 1,\n",
      "              'train_station': 1,\n",
      "              'yes': 4606},\n",
      " 'place': {'hamlet': 1, 'town': 1, 'village': 1},\n",
      " 'service': {'Parking': 1,\n",
      "             'alley': 5,\n",
      "             'driveway': 4,\n",
      "             'emergency_access': 1,\n",
      "             'parking_aisle': 43,\n",
      "             'siding': 4,\n",
      "             'yard': 3},\n",
      " 'shop': {'bakery': 3,\n",
      "          'butcher': 1,\n",
      "          'clothes': 1,\n",
      "          'convenience': 4,\n",
      "          'doityourself': 1,\n",
      "          'furniture': 1,\n",
      "          'garden_centre': 1,\n",
      "          'hairdresser': 2,\n",
      "          'shoes': 1,\n",
      "          'supermarket': 2,\n",
      "          'ticket': 1},\n",
      " 'sport': {'athletics': 2,\n",
      "           'basketball': 2,\n",
      "           'boules': 1,\n",
      "           'golf': 1,\n",
      "           'gymnastics': 1,\n",
      "           'multi': 3,\n",
      "           'soccer': 9,\n",
      "           'swimming': 5,\n",
      "           'tennis': 11}}\n"
     ]
    }
   ],
   "source": [
    "create_tags_details(tags_details,keys,\"sample.osm\")"
   ]
  },
  {
   "cell_type": "markdown",
   "metadata": {},
   "source": [
    "**What questions I want to answer?**\n",
    "- What is the most popular type of shop in Plaisir?\n",
    "- What is the sport with the most facilities in Plaisir?\n",
    "- Are there more restaurant or Fastfood in Plaisir?\n",
    "- Is there a correlation between the number of house and the number of bus stop in a given area?"
   ]
  },
  {
   "cell_type": "markdown",
   "metadata": {},
   "source": [
    "# Data cleaning plan"
   ]
  },
  {
   "cell_type": "markdown",
   "metadata": {},
   "source": [
    "- Clean addr:street fields\n",
    "- Create a list with one document per tag (we will only care about node and way) and the following structure:\n"
   ]
  },
  {
   "cell_type": "markdown",
   "metadata": {},
   "source": [
    "{\n",
    "\"id\": \"2406124091\",\n",
    "\"type: \"node\",\n",
    "\"visible\":\"true\",\n",
    "\"created\": {\n",
    "          \"version\":\"2\",\n",
    "          \"changeset\":\"17206049\",\n",
    "          \"timestamp\":\"2013-08-03T16:43:42Z\",\n",
    "          \"user\":\"linuxUser16\",\n",
    "          \"uid\":\"1219059\"\n",
    "        },\n",
    "\"pos\": [41.9757030, -87.6921867],\n",
    "\"address\": {\n",
    "          \"housenumber\": \"5157\",\n",
    "          \"postcode\": \"60625\",\n",
    "          \"street\": \"North Lincoln Ave\"\n",
    "        },\n",
    "\"amenity\": \"restaurant\",\n",
    "\"cuisine\": \"mexican\",\n",
    "\"name\": \"La Cabana De Don Luis\",\n",
    "\"phone\": \"1 (773)-271-5176\"\n",
    "}"
   ]
  },
  {
   "cell_type": "code",
   "execution_count": 11,
   "metadata": {
    "collapsed": true
   },
   "outputs": [],
   "source": [
    "lower = re.compile(r'^([a-z]|_)*$')\n",
    "lower_colon = re.compile(r'^([a-z]|_)*:([a-z]|_)*$')\n",
    "problemchars = re.compile(r'[=\\+/&<>;\\'\"\\?%#$@\\,\\. \\t\\r\\n]')\n",
    "startswith = re.compile(r'addr:')\n",
    "\n",
    "CREATED = [ \"version\", \"changeset\", \"timestamp\", \"user\", \"uid\"]\n",
    "POS = [\"lon\",\"lat\"]\n",
    "BUILDING_TYPES = [\"amenity\",\"shop\",\"sport\",\"place\",\"service\",\"building\"]\n",
    "\n",
    "def shape_element(element):\n",
    "    node = {}\n",
    "    pos = []\n",
    "    node_refs = []\n",
    "    created = {}\n",
    "    address = {}\n",
    "    types = {}\n",
    "    if element.tag == \"node\" or element.tag == \"way\" :\n",
    "        types['type'] = element.tag\n",
    "        if 'lat' in element.attrib.keys() and 'lon' in element.attrib.keys():\n",
    "            try:\n",
    "                lat = float(element.attrib['lat'])\n",
    "                lon = float(element.attrib['lon'])\n",
    "                pos.insert(0,lat)\n",
    "                pos.insert(1,lon)\n",
    "            except:\n",
    "                pass\n",
    "        for k, m in element.attrib.items():\n",
    "            if k not in POS:\n",
    "                if k in CREATED:\n",
    "                    created[k] = m\n",
    "                else:\n",
    "                    node[k] = m\n",
    "\n",
    "        for child in element:\n",
    "            if child.tag == \"nd\":\n",
    "                node_refs.append(child.attrib['ref'])\n",
    "            elif child.tag == \"tag\":\n",
    "                if child.attrib['k'].startswith(\"addr:\"):\n",
    "                    key = re.sub('addr:', '', child.attrib['k']).strip()\n",
    "                    if lower_colon.match(key):\n",
    "                        break\n",
    "                    else:\n",
    "                        address[key] = child.attrib['v']\n",
    "                elif child.attrib['k'] in BUILDING_TYPES:\n",
    "                    types[child.attrib['k']] = child.attrib['v']\n",
    "        if types:\n",
    "            node['types'] = types\n",
    "        if created:\n",
    "            node['created'] = created\n",
    "        if pos:\n",
    "            node['pos'] = pos\n",
    "        if address:\n",
    "            node['address'] = address\n",
    "        if node_refs:\n",
    "            node['node_refs'] = node_refs\n",
    "        return node\n",
    "    else:\n",
    "        return None\n",
    "    \n",
    "def process_map(file_in, pretty = False):\n",
    "    file_out = \"{0}.json\".format(file_in)\n",
    "    data = []\n",
    "    with codecs.open(file_out, \"w\") as fo:\n",
    "        for _, element in ET.iterparse(file_in):\n",
    "            el = shape_element(element)\n",
    "            if el:\n",
    "                data.append(el)\n",
    "                if pretty:\n",
    "                    fo.write(json.dumps(el, indent=2)+\"\\n\")\n",
    "                else:\n",
    "                    fo.write(json.dumps(el) + \"\\n\")\n",
    "    return data"
   ]
  },
  {
   "cell_type": "code",
   "execution_count": 12,
   "metadata": {
    "collapsed": false
   },
   "outputs": [],
   "source": [
    "data = process_map('plaisir.osm', True)"
   ]
  },
  {
   "cell_type": "code",
   "execution_count": 13,
   "metadata": {
    "collapsed": false
   },
   "outputs": [],
   "source": [
    "##pp.pprint(data)"
   ]
  },
  {
   "cell_type": "markdown",
   "metadata": {},
   "source": [
    "# Insert data in MongoDb"
   ]
  },
  {
   "cell_type": "code",
   "execution_count": 16,
   "metadata": {
    "collapsed": false
   },
   "outputs": [
    {
     "name": "stdout",
     "output_type": "stream",
     "text": [
      "{u'_id': ObjectId('5805e72aecf40b7a99aff5ee'), u'created': {u'changeset': u'12277498', u'version': u'3', u'user': u'gwen_lr', u'timestamp': u'2012-07-18T10:30:48Z', u'uid': u'739102'}, u'pos': [48.7723763, 2.0117414], u'types': {u'type': u'node'}, u'id': u'4998993'}\n"
     ]
    }
   ],
   "source": [
    "from pymongo import MongoClient\n",
    "from bson.objectid import ObjectId \n",
    "\n",
    "def insert_data(data, db):\n",
    "    for item in data:\n",
    "        item['_id'] = ObjectId()\n",
    "        db.plaisir_osm.insert_one(item)\n",
    "\n",
    "client = MongoClient(\"mongodb://localhost:27017\")\n",
    "db = client.osm_udacity\n",
    "\n",
    "insert_data(data, db)\n",
    "print db.plaisir_osm.find_one()"
   ]
  },
  {
   "cell_type": "markdown",
   "metadata": {
    "collapsed": true
   },
   "source": [
    "# Querying the MongoDb"
   ]
  },
  {
   "cell_type": "code",
   "execution_count": 30,
   "metadata": {
    "collapsed": false
   },
   "outputs": [
    {
     "name": "stdout",
     "output_type": "stream",
     "text": [
      "[{u'_id': u'node', u'count': 330687}, {u'_id': u'way', u'count': 56182}]\n"
     ]
    }
   ],
   "source": [
    "def make_group_pipeline(type_node):\n",
    "    pipeline = [{'$group':{'_id':type_node,'count':{'$sum':1}}},\n",
    "                {'$sort':{'count':-1}},\n",
    "                {'$limit' : 5 }\n",
    "    ]\n",
    "    return pipeline\n",
    "\n",
    "\n",
    "def aggregate(db, pipeline):\n",
    "    return [doc for doc in db.aggregate(pipeline)]\n",
    "\n",
    "pipeline = make_group_pipeline('$types.type')\n",
    "result = aggregate(db.plaisir_osm, pipeline)\n",
    "pp.pprint(result)"
   ]
  },
  {
   "cell_type": "markdown",
   "metadata": {},
   "source": [
    "# Answering question"
   ]
  },
  {
   "cell_type": "markdown",
   "metadata": {},
   "source": [
    "**What is the most popular type of shop in Plaisir?**"
   ]
  },
  {
   "cell_type": "code",
   "execution_count": 31,
   "metadata": {
    "collapsed": false
   },
   "outputs": [
    {
     "name": "stdout",
     "output_type": "stream",
     "text": [
      "[{u'_id': None, u'count': 386691},\n",
      " {u'_id': u'bakery', u'count': 19},\n",
      " {u'_id': u'supermarket', u'count': 18},\n",
      " {u'_id': u'convenience', u'count': 17},\n",
      " {u'_id': u'car_repair', u'count': 15}]\n"
     ]
    }
   ],
   "source": [
    "pipeline_shop = make_group_pipeline('$types.shop')\n",
    "result_shop = aggregate(db.plaisir_osm, pipeline_shop)\n",
    "pp.pprint(result_shop)"
   ]
  },
  {
   "cell_type": "markdown",
   "metadata": {},
   "source": [
    "Bakery is the most popular shop in Plaisir. No kidding.. Plaisir is in France :)"
   ]
  },
  {
   "cell_type": "markdown",
   "metadata": {},
   "source": [
    "**What is the sport with the most facilities in Plaisir?**"
   ]
  },
  {
   "cell_type": "code",
   "execution_count": 32,
   "metadata": {
    "collapsed": false
   },
   "outputs": [
    {
     "name": "stdout",
     "output_type": "stream",
     "text": [
      "[{u'_id': None, u'count': 386521},\n",
      " {u'_id': u'tennis', u'count': 113},\n",
      " {u'_id': u'swimming', u'count': 75},\n",
      " {u'_id': u'soccer', u'count': 43},\n",
      " {u'_id': u'multi', u'count': 35}]\n"
     ]
    }
   ],
   "source": [
    "pipeline_sport = make_group_pipeline('$types.sport')\n",
    "result_sport = aggregate(db.plaisir_osm, pipeline_sport)\n",
    "pp.pprint(result_sport)"
   ]
  },
  {
   "cell_type": "markdown",
   "metadata": {},
   "source": [
    "Tennis is the sport with the most facilities in Plaisir."
   ]
  },
  {
   "cell_type": "markdown",
   "metadata": {},
   "source": [
    "**Are there more restaurant or Fastfood in Plaisir?**"
   ]
  },
  {
   "cell_type": "code",
   "execution_count": 37,
   "metadata": {
    "collapsed": false
   },
   "outputs": [
    {
     "name": "stdout",
     "output_type": "stream",
     "text": [
      "[{u'_id': u'restaurant', u'count': 35}, {u'_id': u'fast_food', u'count': 12}]\n"
     ]
    }
   ],
   "source": [
    "pipeline_restaurant = [{'$match': {\"$or\" : [{\"types.amenity\": \"restaurant\"},{\"types.amenity\":\"fast_food\"}]}},\n",
    "                       {'$group':{'_id':'$types.amenity','count':{'$sum':1}}},\n",
    "                       {'$sort':{'count':-1}}]\n",
    "result_restaurant = aggregate(db.plaisir_osm, pipeline_restaurant)\n",
    "pp.pprint(result_restaurant)"
   ]
  },
  {
   "cell_type": "markdown",
   "metadata": {},
   "source": [
    "There are more restaurant than fast_food in Plaisir.. Good news....."
   ]
  },
  {
   "cell_type": "markdown",
   "metadata": {},
   "source": [
    "**Is there a correlation between the number of house and the number of bus stop in a given area?**"
   ]
  },
  {
   "cell_type": "code",
   "execution_count": 59,
   "metadata": {
    "collapsed": false
   },
   "outputs": [
    {
     "name": "stdout",
     "output_type": "stream",
     "text": [
      "{u'_id': ObjectId('5805e7d9ecf40b7a99b309b9'),\n",
      " u'created': {u'changeset': u'7891932',\n",
      "              u'timestamp': u'2011-04-17T21:36:26Z',\n",
      "              u'uid': u'185687',\n",
      "              u'user': u'apollinaire',\n",
      "              u'version': u'1'},\n",
      " u'id': u'1249128435',\n",
      " u'pos': [48.772105, 1.951118],\n",
      " u'types': {u'type': u'node'}}\n"
     ]
    }
   ],
   "source": [
    "#check of the geospacial index\n",
    "for doc in db.plaisir_osm.find({'pos': {'$near' : [48.5,1.95]}}):\n",
    "    pp.pprint(doc)\n",
    "    break"
   ]
  },
  {
   "cell_type": "code",
   "execution_count": 64,
   "metadata": {
    "collapsed": true
   },
   "outputs": [],
   "source": [
    "#Get max and min latitude and longitude"
   ]
  },
  {
   "cell_type": "code",
   "execution_count": 73,
   "metadata": {
    "collapsed": false
   },
   "outputs": [
    {
     "name": "stdout",
     "output_type": "stream",
     "text": [
      "{u'_id': u'null',\n",
      " u'maxLat': 48.8535998,\n",
      " u'maxLon': 2.0419,\n",
      " u'minLat': 48.7721,\n",
      " u'minLon': 1.8548085}\n"
     ]
    }
   ],
   "source": [
    "for doc in db.plaisir_osm.aggregate([\n",
    "    { \"$unwind\": \"$pos\" },\n",
    "    { \"$group\": { \n",
    "        \"_id\": \"$_id\",\n",
    "        \"lat\": { \"$first\": \"$pos\" },\n",
    "        \"lon\": { \"$last\": \"$pos\" }\n",
    "    }},\n",
    "    { \"$group\": {\n",
    "        \"_id\": \"null\",\n",
    "        \"minLat\": { \"$min\": \"$lat\" },\n",
    "        \"minLon\": { \"$min\": \"$lon\" },\n",
    "        \"maxLat\": { \"$max\": \"$lat\" },\n",
    "        \"maxLon\": { \"$max\": \"$lon\" }\n",
    "    }}\n",
    "]):\n",
    "    pp.pprint(doc)"
   ]
  },
  {
   "cell_type": "markdown",
   "metadata": {},
   "source": [
    "**What I need to do:**\n",
    "- Aggregate the number of bus stop and houses by box of 0.02 latitude and 0.01 longitude\n",
    "- remove empty box from my list\n",
    "- calculate the correlation"
   ]
  },
  {
   "cell_type": "code",
   "execution_count": 127,
   "metadata": {
    "collapsed": false
   },
   "outputs": [],
   "source": [
    "main_dict = {}\n",
    "\n",
    "def frange(start, stop, step):\n",
    "    i = start\n",
    "    while i < stop:\n",
    "        yield i\n",
    "        i += step\n",
    "\n",
    "for lat in frange(48.76,48.86,0.01):\n",
    "    for lon in frange(1.85,2.05,0.02):\n",
    "        main_dict[str(lon) + \" - \" + str(lat)] = {}\n",
    "        houses = 0\n",
    "        parking_aisles = 0\n",
    "        for doc in db.plaisir_osm.find({'pos': { '$geoWithin': { '$box':  [ [ lat, lon ], [ (lat + 0.01), (lon + 0.02) ] ] } }}):\n",
    "            if 'building' in doc['types']:\n",
    "                if doc['types']['building'] == \"yes\":\n",
    "                    houses += 1\n",
    "            elif 'service' in doc['types']:\n",
    "                if doc['types']['service'] == 'parking_aisle':\n",
    "                    parking_aisles += 1\n",
    "        main_dict[str(lon) + \" - \" + str(lat)]['houses'] = houses\n",
    "        main_dict[str(lon) + \" - \" + str(lat)]['parking_aisle'] = parking_aisles"
   ]
  },
  {
   "cell_type": "code",
   "execution_count": 128,
   "metadata": {
    "collapsed": false
   },
   "outputs": [
    {
     "name": "stdout",
     "output_type": "stream",
     "text": [
      "{'1.85 - 48.76': {'houses': 0, 'parking_aisle': 0},\n",
      " '1.85 - 48.77': {'houses': 0, 'parking_aisle': 0},\n",
      " '1.85 - 48.78': {'houses': 0, 'parking_aisle': 0},\n",
      " '1.85 - 48.79': {'houses': 0, 'parking_aisle': 0},\n",
      " '1.85 - 48.8': {'houses': 0, 'parking_aisle': 0},\n",
      " '1.85 - 48.81': {'houses': 0, 'parking_aisle': 0},\n",
      " '1.85 - 48.82': {'houses': 0, 'parking_aisle': 0},\n",
      " '1.85 - 48.83': {'houses': 0, 'parking_aisle': 0},\n",
      " '1.85 - 48.84': {'houses': 0, 'parking_aisle': 0},\n",
      " '1.85 - 48.85': {'houses': 0, 'parking_aisle': 0},\n",
      " '1.85 - 48.86': {'houses': 0, 'parking_aisle': 0},\n",
      " '1.87 - 48.76': {'houses': 0, 'parking_aisle': 0},\n",
      " '1.87 - 48.77': {'houses': 0, 'parking_aisle': 0},\n",
      " '1.87 - 48.78': {'houses': 0, 'parking_aisle': 0},\n",
      " '1.87 - 48.79': {'houses': 0, 'parking_aisle': 0},\n",
      " '1.87 - 48.8': {'houses': 0, 'parking_aisle': 0},\n",
      " '1.87 - 48.81': {'houses': 0, 'parking_aisle': 0},\n",
      " '1.87 - 48.82': {'houses': 0, 'parking_aisle': 0},\n",
      " '1.87 - 48.83': {'houses': 0, 'parking_aisle': 0},\n",
      " '1.87 - 48.84': {'houses': 0, 'parking_aisle': 0},\n",
      " '1.87 - 48.85': {'houses': 0, 'parking_aisle': 0},\n",
      " '1.87 - 48.86': {'houses': 0, 'parking_aisle': 0},\n",
      " '1.89 - 48.76': {'houses': 0, 'parking_aisle': 0},\n",
      " '1.89 - 48.77': {'houses': 0, 'parking_aisle': 0},\n",
      " '1.89 - 48.78': {'houses': 0, 'parking_aisle': 0},\n",
      " '1.89 - 48.79': {'houses': 0, 'parking_aisle': 0},\n",
      " '1.89 - 48.8': {'houses': 0, 'parking_aisle': 0},\n",
      " '1.89 - 48.81': {'houses': 0, 'parking_aisle': 0},\n",
      " '1.89 - 48.82': {'houses': 0, 'parking_aisle': 0},\n",
      " '1.89 - 48.83': {'houses': 0, 'parking_aisle': 0},\n",
      " '1.89 - 48.84': {'houses': 0, 'parking_aisle': 0},\n",
      " '1.89 - 48.85': {'houses': 0, 'parking_aisle': 0},\n",
      " '1.89 - 48.86': {'houses': 0, 'parking_aisle': 0},\n",
      " '1.91 - 48.76': {'houses': 0, 'parking_aisle': 0},\n",
      " '1.91 - 48.77': {'houses': 0, 'parking_aisle': 0},\n",
      " '1.91 - 48.78': {'houses': 0, 'parking_aisle': 0},\n",
      " '1.91 - 48.79': {'houses': 0, 'parking_aisle': 0},\n",
      " '1.91 - 48.8': {'houses': 0, 'parking_aisle': 0},\n",
      " '1.91 - 48.81': {'houses': 0, 'parking_aisle': 0},\n",
      " '1.91 - 48.82': {'houses': 0, 'parking_aisle': 0},\n",
      " '1.91 - 48.83': {'houses': 0, 'parking_aisle': 0},\n",
      " '1.91 - 48.84': {'houses': 0, 'parking_aisle': 0},\n",
      " '1.91 - 48.85': {'houses': 0, 'parking_aisle': 0},\n",
      " '1.91 - 48.86': {'houses': 0, 'parking_aisle': 0},\n",
      " '1.93 - 48.76': {'houses': 0, 'parking_aisle': 0},\n",
      " '1.93 - 48.77': {'houses': 0, 'parking_aisle': 0},\n",
      " '1.93 - 48.78': {'houses': 0, 'parking_aisle': 0},\n",
      " '1.93 - 48.79': {'houses': 0, 'parking_aisle': 0},\n",
      " '1.93 - 48.8': {'houses': 0, 'parking_aisle': 0},\n",
      " '1.93 - 48.81': {'houses': 0, 'parking_aisle': 0},\n",
      " '1.93 - 48.82': {'houses': 1, 'parking_aisle': 0},\n",
      " '1.93 - 48.83': {'houses': 3, 'parking_aisle': 0},\n",
      " '1.93 - 48.84': {'houses': 0, 'parking_aisle': 0},\n",
      " '1.93 - 48.85': {'houses': 0, 'parking_aisle': 0},\n",
      " '1.93 - 48.86': {'houses': 0, 'parking_aisle': 0},\n",
      " '1.95 - 48.76': {'houses': 0, 'parking_aisle': 0},\n",
      " '1.95 - 48.77': {'houses': 0, 'parking_aisle': 0},\n",
      " '1.95 - 48.78': {'houses': 0, 'parking_aisle': 0},\n",
      " '1.95 - 48.79': {'houses': 0, 'parking_aisle': 0},\n",
      " '1.95 - 48.8': {'houses': 0, 'parking_aisle': 0},\n",
      " '1.95 - 48.81': {'houses': 0, 'parking_aisle': 0},\n",
      " '1.95 - 48.82': {'houses': 0, 'parking_aisle': 0},\n",
      " '1.95 - 48.83': {'houses': 0, 'parking_aisle': 0},\n",
      " '1.95 - 48.84': {'houses': 0, 'parking_aisle': 0},\n",
      " '1.95 - 48.85': {'houses': 0, 'parking_aisle': 0},\n",
      " '1.95 - 48.86': {'houses': 0, 'parking_aisle': 0},\n",
      " '1.97 - 48.76': {'houses': 0, 'parking_aisle': 0},\n",
      " '1.97 - 48.77': {'houses': 0, 'parking_aisle': 0},\n",
      " '1.97 - 48.78': {'houses': 0, 'parking_aisle': 0},\n",
      " '1.97 - 48.79': {'houses': 0, 'parking_aisle': 0},\n",
      " '1.97 - 48.8': {'houses': 0, 'parking_aisle': 0},\n",
      " '1.97 - 48.81': {'houses': 0, 'parking_aisle': 0},\n",
      " '1.97 - 48.82': {'houses': 0, 'parking_aisle': 0},\n",
      " '1.97 - 48.83': {'houses': 0, 'parking_aisle': 0},\n",
      " '1.97 - 48.84': {'houses': 0, 'parking_aisle': 0},\n",
      " '1.97 - 48.85': {'houses': 0, 'parking_aisle': 0},\n",
      " '1.97 - 48.86': {'houses': 0, 'parking_aisle': 0},\n",
      " '1.99 - 48.76': {'houses': 0, 'parking_aisle': 0},\n",
      " '1.99 - 48.77': {'houses': 0, 'parking_aisle': 0},\n",
      " '1.99 - 48.78': {'houses': 0, 'parking_aisle': 0},\n",
      " '1.99 - 48.79': {'houses': 0, 'parking_aisle': 0},\n",
      " '1.99 - 48.8': {'houses': 0, 'parking_aisle': 0},\n",
      " '1.99 - 48.81': {'houses': 0, 'parking_aisle': 0},\n",
      " '1.99 - 48.82': {'houses': 0, 'parking_aisle': 0},\n",
      " '1.99 - 48.83': {'houses': 0, 'parking_aisle': 0},\n",
      " '1.99 - 48.84': {'houses': 0, 'parking_aisle': 0},\n",
      " '1.99 - 48.85': {'houses': 0, 'parking_aisle': 0},\n",
      " '1.99 - 48.86': {'houses': 0, 'parking_aisle': 0},\n",
      " '2.01 - 48.76': {'houses': 0, 'parking_aisle': 0},\n",
      " '2.01 - 48.77': {'houses': 0, 'parking_aisle': 0},\n",
      " '2.01 - 48.78': {'houses': 0, 'parking_aisle': 0},\n",
      " '2.01 - 48.79': {'houses': 0, 'parking_aisle': 0},\n",
      " '2.01 - 48.8': {'houses': 0, 'parking_aisle': 0},\n",
      " '2.01 - 48.81': {'houses': 0, 'parking_aisle': 0},\n",
      " '2.01 - 48.82': {'houses': 0, 'parking_aisle': 0},\n",
      " '2.01 - 48.83': {'houses': 0, 'parking_aisle': 0},\n",
      " '2.01 - 48.84': {'houses': 0, 'parking_aisle': 0},\n",
      " '2.01 - 48.85': {'houses': 0, 'parking_aisle': 0},\n",
      " '2.01 - 48.86': {'houses': 0, 'parking_aisle': 0},\n",
      " '2.03 - 48.76': {'houses': 0, 'parking_aisle': 0},\n",
      " '2.03 - 48.77': {'houses': 0, 'parking_aisle': 0},\n",
      " '2.03 - 48.78': {'houses': 1, 'parking_aisle': 0},\n",
      " '2.03 - 48.79': {'houses': 0, 'parking_aisle': 0},\n",
      " '2.03 - 48.8': {'houses': 0, 'parking_aisle': 0},\n",
      " '2.03 - 48.81': {'houses': 0, 'parking_aisle': 0},\n",
      " '2.03 - 48.82': {'houses': 0, 'parking_aisle': 0},\n",
      " '2.03 - 48.83': {'houses': 0, 'parking_aisle': 0},\n",
      " '2.03 - 48.84': {'houses': 0, 'parking_aisle': 0},\n",
      " '2.03 - 48.85': {'houses': 0, 'parking_aisle': 0},\n",
      " '2.03 - 48.86': {'houses': 0, 'parking_aisle': 0}}\n"
     ]
    }
   ],
   "source": [
    "pp.pprint(main_dict)"
   ]
  },
  {
   "cell_type": "code",
   "execution_count": null,
   "metadata": {
    "collapsed": true
   },
   "outputs": [],
   "source": []
  }
 ],
 "metadata": {
  "anaconda-cloud": {},
  "kernelspec": {
   "display_name": "Python [Root]",
   "language": "python",
   "name": "Python [Root]"
  },
  "language_info": {
   "codemirror_mode": {
    "name": "ipython",
    "version": 2
   },
   "file_extension": ".py",
   "mimetype": "text/x-python",
   "name": "python",
   "nbconvert_exporter": "python",
   "pygments_lexer": "ipython2",
   "version": "2.7.12"
  }
 },
 "nbformat": 4,
 "nbformat_minor": 0
}
