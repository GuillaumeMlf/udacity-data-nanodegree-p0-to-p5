{
 "cells": [
  {
   "cell_type": "code",
   "execution_count": 2,
   "metadata": {
    "collapsed": false
   },
   "outputs": [],
   "source": [
    "import pandas as pd\n",
    "import numpy as np\n",
    "import pprint as pp\n",
    "pd.options.display.max_columns= 999\n",
    "pd.options.display.max_rows= 999"
   ]
  },
  {
   "cell_type": "code",
   "execution_count": 3,
   "metadata": {
    "collapsed": false
   },
   "outputs": [
    {
     "name": "stderr",
     "output_type": "stream",
     "text": [
      "//anaconda/lib/python2.7/site-packages/IPython/core/interactiveshell.py:2717: DtypeWarning: Columns (15,16,17,21,22,23,24,25,26,30,31,36,37,45,65,123,155,156,157,158,159,160,161,162,163,164,165,166,167,168,169,170,171,284,285,286,287,288,289,290,291,292,293,294,295,296,297,298,299,300,301,302,303,307,308,309,310,311,312,313,314,315,316,317,318,319,320,321,322,323,324,325,326,327,328,329,330,331,332,333,334,335,336,337,338,339,340,341,342,343,344,345,346,347,348,349,350,351,352,353,354,355,356,357,376,377,378,379,380,381,382,383,384,385,386,387,388,389,390,391,392,393,394,395,396,397,398,399,400,401,402,403,475) have mixed types. Specify dtype option on import or set low_memory=False.\n",
      "  interactivity=interactivity, compiler=compiler, result=result)\n"
     ]
    }
   ],
   "source": [
    "data_dict = pd.read_csv(\"pisadict2012.csv\")\n",
    "data = pd.read_csv(\"pisa2012.csv\")"
   ]
  },
  {
   "cell_type": "markdown",
   "metadata": {},
   "source": [
    "Dataset of 485490 observations and 636 columns.\n",
    "France: 4613 obs. \n",
    "Non-OECD: 190074 obs.\n",
    "OECD: 295416 obs."
   ]
  },
  {
   "cell_type": "markdown",
   "metadata": {},
   "source": [
    "PV1 MATH AVE = PV1MATH*FINAL_STUDENT_WEIGHT/SUM(FINAL_STUDENT_WEIGHT)\n",
    "PV2 MATH AVE = PV2MATH*FINAL_STUDENT_WEIGHT/SUM(FINAL_STUDENT_WEIGHT)\n",
    "PV3 MATH AVE = PV3MATH*FINAL_STUDENT_WEIGHT/SUM(FINAL_STUDENT_WEIGHT)\n",
    "PV4 MATH AVE = PV4MATH*FINAL_STUDENT_WEIGHT/SUM(FINAL_STUDENT_WEIGHT)\n",
    "PV5 MATH AVE = PV5MATH*FINAL_STUDENT_WEIGHT/SUM(FINAL_STUDENT_WEIGHT)\n",
    "\n",
    "MATH AVE = (PV1 MATH AVE + PV2 MATH AVE + PV3 MATH AVE + PV4 MATH AVE + PV4 MATH AVE + PV5 MATH AVE) / 5\n"
   ]
  },
  {
   "cell_type": "code",
   "execution_count": 4,
   "metadata": {
    "collapsed": true
   },
   "outputs": [],
   "source": [
    "data['math_ave'] = (((data['PV1MATH'] * data['W_FSTUWT']) / np.mean(data['W_FSTUWT'])) +\n",
    "                    ((data['PV2MATH'] * data['W_FSTUWT']) / np.mean(data['W_FSTUWT'])) +\n",
    "                    ((data['PV3MATH'] * data['W_FSTUWT']) / np.mean(data['W_FSTUWT'])) +\n",
    "                    ((data['PV4MATH'] * data['W_FSTUWT']) / np.mean(data['W_FSTUWT'])) +\n",
    "                    ((data['PV5MATH'] * data['W_FSTUWT']) / np.mean(data['W_FSTUWT']))) / 5"
   ]
  },
  {
   "cell_type": "code",
   "execution_count": 5,
   "metadata": {
    "collapsed": false,
    "scrolled": true
   },
   "outputs": [],
   "source": [
    "df_st88q01 = data.groupby(['OECD','ST88Q01'])['math_ave'].mean()\n",
    "df_st88q02 = data.groupby(['OECD','ST88Q02'])['math_ave'].mean()\n",
    "df_st88q03 = data.groupby(['OECD','ST88Q03'])['math_ave'].mean()\n",
    "df_st88q04 = data.groupby(['OECD','ST88Q04'])['math_ave'].mean()\n",
    "df_st89q02 = data.groupby(['OECD','ST89Q02'])['math_ave'].mean()\n",
    "df_st89q03 = data.groupby(['OECD','ST89Q03'])['math_ave'].mean()\n",
    "df_st89q04 = data.groupby(['OECD','ST89Q04'])['math_ave'].mean()\n",
    "df_st89q05 = data.groupby(['OECD','ST89Q05'])['math_ave'].mean()"
   ]
  },
  {
   "cell_type": "code",
   "execution_count": 6,
   "metadata": {
    "collapsed": false
   },
   "outputs": [],
   "source": [
    "result = pd.concat([df_st88q01, df_st88q02, df_st88q03, df_st88q04, df_st89q02, df_st89q03, df_st89q04, df_st89q05], axis=1)"
   ]
  },
  {
   "cell_type": "code",
   "execution_count": 7,
   "metadata": {
    "collapsed": false
   },
   "outputs": [],
   "source": [
    "result.columns.values[0] = \"Does Little to Prepare Me for Life\"\n",
    "result.columns.values[1] = \"Waste of Time\"\n",
    "result.columns.values[2] = \"Gave Me Confidence\"\n",
    "result.columns.values[3] = \"Useful for Job\"\n",
    "result.columns.values[4] = \"Helps to Get a Job\"\n",
    "result.columns.values[5] = \"Prepare for College\"\n",
    "result.columns.values[6] = \"Enjoy Good Grades\"\n",
    "result.columns.values[7] = \"Trying Hard is Important\""
   ]
  },
  {
   "cell_type": "markdown",
   "metadata": {},
   "source": [
    "ST86Q01\tStudent-Teacher Relation - Get Along with Teachers\t\t\n",
    "ST86Q02\tStudent-Teacher Relation - Teachers Are Interested\t\t\n",
    "ST86Q03\tStudent-Teacher Relation - Teachers Listen to Students\t\t\n",
    "ST86Q04\tStudent-Teacher Relation - Teachers Help Students\t\t\n",
    "ST86Q05\tStudent-Teacher Relation - Teachers Treat Students Fair\t\t"
   ]
  },
  {
   "cell_type": "code",
   "execution_count": 9,
   "metadata": {
    "collapsed": false
   },
   "outputs": [
    {
     "data": {
      "text/html": [
       "<div>\n",
       "<table border=\"1\" class=\"dataframe\">\n",
       "  <thead>\n",
       "    <tr style=\"text-align: right;\">\n",
       "      <th></th>\n",
       "      <th></th>\n",
       "      <th>Does Little to Prepare Me for Life</th>\n",
       "      <th>Waste of Time</th>\n",
       "      <th>Gave Me Confidence</th>\n",
       "      <th>Useful for Job</th>\n",
       "      <th>Helps to Get a Job</th>\n",
       "      <th>Prepare for College</th>\n",
       "      <th>Enjoy Good Grades</th>\n",
       "      <th>Trying Hard is Important</th>\n",
       "    </tr>\n",
       "    <tr>\n",
       "      <th>OECD</th>\n",
       "      <th>ST89Q04</th>\n",
       "      <th></th>\n",
       "      <th></th>\n",
       "      <th></th>\n",
       "      <th></th>\n",
       "      <th></th>\n",
       "      <th></th>\n",
       "      <th></th>\n",
       "      <th></th>\n",
       "    </tr>\n",
       "  </thead>\n",
       "  <tbody>\n",
       "    <tr>\n",
       "      <th rowspan=\"4\" valign=\"top\">Non-OECD</th>\n",
       "      <th>Agree</th>\n",
       "      <td>437.044153</td>\n",
       "      <td>367.120422</td>\n",
       "      <td>533.068760</td>\n",
       "      <td>510.993584</td>\n",
       "      <td>552.942862</td>\n",
       "      <td>552.108301</td>\n",
       "      <td>603.564745</td>\n",
       "      <td>567.016035</td>\n",
       "    </tr>\n",
       "    <tr>\n",
       "      <th>Disagree</th>\n",
       "      <td>596.134283</td>\n",
       "      <td>542.289667</td>\n",
       "      <td>386.251238</td>\n",
       "      <td>386.468905</td>\n",
       "      <td>421.574522</td>\n",
       "      <td>447.275269</td>\n",
       "      <td>506.404425</td>\n",
       "      <td>582.400498</td>\n",
       "    </tr>\n",
       "    <tr>\n",
       "      <th>Strongly agree</th>\n",
       "      <td>353.457080</td>\n",
       "      <td>336.759380</td>\n",
       "      <td>527.960146</td>\n",
       "      <td>540.261704</td>\n",
       "      <td>490.190096</td>\n",
       "      <td>488.869818</td>\n",
       "      <td>448.960476</td>\n",
       "      <td>465.233118</td>\n",
       "    </tr>\n",
       "    <tr>\n",
       "      <th>Strongly disagree</th>\n",
       "      <td>533.112156</td>\n",
       "      <td>522.734544</td>\n",
       "      <td>364.914654</td>\n",
       "      <td>323.868502</td>\n",
       "      <td>289.791307</td>\n",
       "      <td>264.647674</td>\n",
       "      <td>347.632245</td>\n",
       "      <td>306.059803</td>\n",
       "    </tr>\n",
       "    <tr>\n",
       "      <th rowspan=\"4\" valign=\"top\">OECD</th>\n",
       "      <th>Agree</th>\n",
       "      <td>412.697490</td>\n",
       "      <td>395.638535</td>\n",
       "      <td>416.241255</td>\n",
       "      <td>428.620959</td>\n",
       "      <td>420.635226</td>\n",
       "      <td>399.493006</td>\n",
       "      <td>405.270172</td>\n",
       "      <td>398.581508</td>\n",
       "    </tr>\n",
       "    <tr>\n",
       "      <th>Disagree</th>\n",
       "      <td>426.402152</td>\n",
       "      <td>422.797166</td>\n",
       "      <td>438.763210</td>\n",
       "      <td>527.067135</td>\n",
       "      <td>414.740919</td>\n",
       "      <td>327.781053</td>\n",
       "      <td>702.630618</td>\n",
       "      <td>380.657985</td>\n",
       "    </tr>\n",
       "    <tr>\n",
       "      <th>Strongly agree</th>\n",
       "      <td>399.027035</td>\n",
       "      <td>360.587002</td>\n",
       "      <td>437.709121</td>\n",
       "      <td>391.316677</td>\n",
       "      <td>430.541151</td>\n",
       "      <td>456.202013</td>\n",
       "      <td>415.995883</td>\n",
       "      <td>455.573686</td>\n",
       "    </tr>\n",
       "    <tr>\n",
       "      <th>Strongly disagree</th>\n",
       "      <td>446.069154</td>\n",
       "      <td>438.938251</td>\n",
       "      <td>417.539221</td>\n",
       "      <td>485.938559</td>\n",
       "      <td>405.615388</td>\n",
       "      <td>312.685148</td>\n",
       "      <td>682.051237</td>\n",
       "      <td>374.347602</td>\n",
       "    </tr>\n",
       "  </tbody>\n",
       "</table>\n",
       "</div>"
      ],
      "text/plain": [
       "                            Does Little to Prepare Me for Life  Waste of Time  \\\n",
       "OECD     ST89Q04                                                                \n",
       "Non-OECD Agree                                      437.044153     367.120422   \n",
       "         Disagree                                   596.134283     542.289667   \n",
       "         Strongly agree                             353.457080     336.759380   \n",
       "         Strongly disagree                          533.112156     522.734544   \n",
       "OECD     Agree                                      412.697490     395.638535   \n",
       "         Disagree                                   426.402152     422.797166   \n",
       "         Strongly agree                             399.027035     360.587002   \n",
       "         Strongly disagree                          446.069154     438.938251   \n",
       "\n",
       "                            Gave Me Confidence  Useful for Job  \\\n",
       "OECD     ST89Q04                                                 \n",
       "Non-OECD Agree                      533.068760      510.993584   \n",
       "         Disagree                   386.251238      386.468905   \n",
       "         Strongly agree             527.960146      540.261704   \n",
       "         Strongly disagree          364.914654      323.868502   \n",
       "OECD     Agree                      416.241255      428.620959   \n",
       "         Disagree                   438.763210      527.067135   \n",
       "         Strongly agree             437.709121      391.316677   \n",
       "         Strongly disagree          417.539221      485.938559   \n",
       "\n",
       "                            Helps to Get a Job  Prepare for College  \\\n",
       "OECD     ST89Q04                                                      \n",
       "Non-OECD Agree                      552.942862           552.108301   \n",
       "         Disagree                   421.574522           447.275269   \n",
       "         Strongly agree             490.190096           488.869818   \n",
       "         Strongly disagree          289.791307           264.647674   \n",
       "OECD     Agree                      420.635226           399.493006   \n",
       "         Disagree                   414.740919           327.781053   \n",
       "         Strongly agree             430.541151           456.202013   \n",
       "         Strongly disagree          405.615388           312.685148   \n",
       "\n",
       "                            Enjoy Good Grades  Trying Hard is Important  \n",
       "OECD     ST89Q04                                                         \n",
       "Non-OECD Agree                     603.564745                567.016035  \n",
       "         Disagree                  506.404425                582.400498  \n",
       "         Strongly agree            448.960476                465.233118  \n",
       "         Strongly disagree         347.632245                306.059803  \n",
       "OECD     Agree                     405.270172                398.581508  \n",
       "         Disagree                  702.630618                380.657985  \n",
       "         Strongly agree            415.995883                455.573686  \n",
       "         Strongly disagree         682.051237                374.347602  "
      ]
     },
     "execution_count": 9,
     "metadata": {},
     "output_type": "execute_result"
    }
   ],
   "source": [
    "result"
   ]
  },
  {
   "cell_type": "code",
   "execution_count": 10,
   "metadata": {
    "collapsed": false
   },
   "outputs": [
    {
     "data": {
      "text/html": [
       "<div>\n",
       "<table border=\"1\" class=\"dataframe\">\n",
       "  <thead>\n",
       "    <tr style=\"text-align: right;\">\n",
       "      <th></th>\n",
       "      <th>OECD</th>\n",
       "      <th>ST89Q04</th>\n",
       "      <th>Does Little to Prepare Me for Life</th>\n",
       "      <th>Waste of Time</th>\n",
       "      <th>Gave Me Confidence</th>\n",
       "      <th>Useful for Job</th>\n",
       "      <th>Helps to Get a Job</th>\n",
       "      <th>Prepare for College</th>\n",
       "      <th>Enjoy Good Grades</th>\n",
       "      <th>Trying Hard is Important</th>\n",
       "    </tr>\n",
       "  </thead>\n",
       "  <tbody>\n",
       "    <tr>\n",
       "      <th>0</th>\n",
       "      <td>Non-OECD</td>\n",
       "      <td>Agree</td>\n",
       "      <td>437.044153</td>\n",
       "      <td>367.120422</td>\n",
       "      <td>533.068760</td>\n",
       "      <td>510.993584</td>\n",
       "      <td>552.942862</td>\n",
       "      <td>552.108301</td>\n",
       "      <td>603.564745</td>\n",
       "      <td>567.016035</td>\n",
       "    </tr>\n",
       "    <tr>\n",
       "      <th>1</th>\n",
       "      <td>Non-OECD</td>\n",
       "      <td>Disagree</td>\n",
       "      <td>596.134283</td>\n",
       "      <td>542.289667</td>\n",
       "      <td>386.251238</td>\n",
       "      <td>386.468905</td>\n",
       "      <td>421.574522</td>\n",
       "      <td>447.275269</td>\n",
       "      <td>506.404425</td>\n",
       "      <td>582.400498</td>\n",
       "    </tr>\n",
       "    <tr>\n",
       "      <th>2</th>\n",
       "      <td>Non-OECD</td>\n",
       "      <td>Strongly agree</td>\n",
       "      <td>353.457080</td>\n",
       "      <td>336.759380</td>\n",
       "      <td>527.960146</td>\n",
       "      <td>540.261704</td>\n",
       "      <td>490.190096</td>\n",
       "      <td>488.869818</td>\n",
       "      <td>448.960476</td>\n",
       "      <td>465.233118</td>\n",
       "    </tr>\n",
       "    <tr>\n",
       "      <th>3</th>\n",
       "      <td>Non-OECD</td>\n",
       "      <td>Strongly disagree</td>\n",
       "      <td>533.112156</td>\n",
       "      <td>522.734544</td>\n",
       "      <td>364.914654</td>\n",
       "      <td>323.868502</td>\n",
       "      <td>289.791307</td>\n",
       "      <td>264.647674</td>\n",
       "      <td>347.632245</td>\n",
       "      <td>306.059803</td>\n",
       "    </tr>\n",
       "    <tr>\n",
       "      <th>4</th>\n",
       "      <td>OECD</td>\n",
       "      <td>Agree</td>\n",
       "      <td>412.697490</td>\n",
       "      <td>395.638535</td>\n",
       "      <td>416.241255</td>\n",
       "      <td>428.620959</td>\n",
       "      <td>420.635226</td>\n",
       "      <td>399.493006</td>\n",
       "      <td>405.270172</td>\n",
       "      <td>398.581508</td>\n",
       "    </tr>\n",
       "    <tr>\n",
       "      <th>5</th>\n",
       "      <td>OECD</td>\n",
       "      <td>Disagree</td>\n",
       "      <td>426.402152</td>\n",
       "      <td>422.797166</td>\n",
       "      <td>438.763210</td>\n",
       "      <td>527.067135</td>\n",
       "      <td>414.740919</td>\n",
       "      <td>327.781053</td>\n",
       "      <td>702.630618</td>\n",
       "      <td>380.657985</td>\n",
       "    </tr>\n",
       "    <tr>\n",
       "      <th>6</th>\n",
       "      <td>OECD</td>\n",
       "      <td>Strongly agree</td>\n",
       "      <td>399.027035</td>\n",
       "      <td>360.587002</td>\n",
       "      <td>437.709121</td>\n",
       "      <td>391.316677</td>\n",
       "      <td>430.541151</td>\n",
       "      <td>456.202013</td>\n",
       "      <td>415.995883</td>\n",
       "      <td>455.573686</td>\n",
       "    </tr>\n",
       "    <tr>\n",
       "      <th>7</th>\n",
       "      <td>OECD</td>\n",
       "      <td>Strongly disagree</td>\n",
       "      <td>446.069154</td>\n",
       "      <td>438.938251</td>\n",
       "      <td>417.539221</td>\n",
       "      <td>485.938559</td>\n",
       "      <td>405.615388</td>\n",
       "      <td>312.685148</td>\n",
       "      <td>682.051237</td>\n",
       "      <td>374.347602</td>\n",
       "    </tr>\n",
       "  </tbody>\n",
       "</table>\n",
       "</div>"
      ],
      "text/plain": [
       "       OECD            ST89Q04  Does Little to Prepare Me for Life  \\\n",
       "0  Non-OECD              Agree                          437.044153   \n",
       "1  Non-OECD           Disagree                          596.134283   \n",
       "2  Non-OECD     Strongly agree                          353.457080   \n",
       "3  Non-OECD  Strongly disagree                          533.112156   \n",
       "4      OECD              Agree                          412.697490   \n",
       "5      OECD           Disagree                          426.402152   \n",
       "6      OECD     Strongly agree                          399.027035   \n",
       "7      OECD  Strongly disagree                          446.069154   \n",
       "\n",
       "   Waste of Time  Gave Me Confidence  Useful for Job  Helps to Get a Job  \\\n",
       "0     367.120422          533.068760      510.993584          552.942862   \n",
       "1     542.289667          386.251238      386.468905          421.574522   \n",
       "2     336.759380          527.960146      540.261704          490.190096   \n",
       "3     522.734544          364.914654      323.868502          289.791307   \n",
       "4     395.638535          416.241255      428.620959          420.635226   \n",
       "5     422.797166          438.763210      527.067135          414.740919   \n",
       "6     360.587002          437.709121      391.316677          430.541151   \n",
       "7     438.938251          417.539221      485.938559          405.615388   \n",
       "\n",
       "   Prepare for College  Enjoy Good Grades  Trying Hard is Important  \n",
       "0           552.108301         603.564745                567.016035  \n",
       "1           447.275269         506.404425                582.400498  \n",
       "2           488.869818         448.960476                465.233118  \n",
       "3           264.647674         347.632245                306.059803  \n",
       "4           399.493006         405.270172                398.581508  \n",
       "5           327.781053         702.630618                380.657985  \n",
       "6           456.202013         415.995883                455.573686  \n",
       "7           312.685148         682.051237                374.347602  "
      ]
     },
     "execution_count": 10,
     "metadata": {},
     "output_type": "execute_result"
    }
   ],
   "source": [
    "result.reset_index(level=['OECD', 'ST89Q04'])"
   ]
  },
  {
   "cell_type": "code",
   "execution_count": 11,
   "metadata": {
    "collapsed": false
   },
   "outputs": [
    {
     "name": "stdout",
     "output_type": "stream",
     "text": [
      "'{\"OECD\":{\"0\":\"Non-OECD\",\"1\":\"Non-OECD\",\"2\":\"Non-OECD\",\"3\":\"Non-OECD\",\"4\":\"OECD\",\"5\":\"OECD\",\"6\":\"OECD\",\"7\":\"OECD\"},\"ST89Q04\":{\"0\":\"Agree\",\"1\":\"Disagree\",\"2\":\"Strongly agree\",\"3\":\"Strongly disagree\",\"4\":\"Agree\",\"5\":\"Disagree\",\"6\":\"Strongly agree\",\"7\":\"Strongly disagree\"},\"Does Little to Prepare Me for Life\":{\"0\":437.0441528368,\"1\":596.1342831131,\"2\":353.4570795502,\"3\":533.1121563356,\"4\":412.697489586,\"5\":426.402152362,\"6\":399.0270347655,\"7\":446.0691536548},\"Waste of Time\":{\"0\":367.1204219297,\"1\":542.2896665557,\"2\":336.7593796361,\"3\":522.7345443658,\"4\":395.6385354718,\"5\":422.7971663563,\"6\":360.5870023672,\"7\":438.9382508515},\"Gave Me Confidence\":{\"0\":533.0687604939,\"1\":386.2512384138,\"2\":527.9601461096,\"3\":364.9146539589,\"4\":416.2412550874,\"5\":438.7632098294,\"6\":437.709120767,\"7\":417.5392208699},\"Useful for Job\":{\"0\":510.9935840885,\"1\":386.4689050289,\"2\":540.2617040873,\"3\":323.8685015716,\"4\":428.6209594564,\"5\":527.0671353279,\"6\":391.3166765398,\"7\":485.9385589067},\"Helps to Get a Job\":{\"0\":552.9428616797,\"1\":421.5745220988,\"2\":490.1900956745,\"3\":289.7913066641,\"4\":420.6352258289,\"5\":414.7409185554,\"6\":430.5411513695,\"7\":405.6153883939},\"Prepare for College\":{\"0\":552.1083007002,\"1\":447.2752687129,\"2\":488.8698175168,\"3\":264.6476743358,\"4\":399.49300622,\"5\":327.7810533117,\"6\":456.2020125581,\"7\":312.6851477526},\"Enjoy Good Grades\":{\"0\":603.564745454,\"1\":506.4044254395,\"2\":448.9604758786,\"3\":347.6322448501,\"4\":405.2701715742,\"5\":702.6306175589,\"6\":415.9958826839,\"7\":682.0512372859},\"Trying Hard is Important\":{\"0\":567.0160351718,\"1\":582.4004983099,\"2\":465.233118031,\"3\":306.0598034875,\"4\":398.5815084234,\"5\":380.6579854914,\"6\":455.573686191,\"7\":374.3476019936}}'\n"
     ]
    }
   ],
   "source": [
    "pp.pprint(result.reset_index().to_json())"
   ]
  },
  {
   "cell_type": "code",
   "execution_count": null,
   "metadata": {
    "collapsed": true
   },
   "outputs": [],
   "source": []
  }
 ],
 "metadata": {
  "anaconda-cloud": {},
  "kernelspec": {
   "display_name": "Python [conda root]",
   "language": "python",
   "name": "conda-root-py"
  },
  "language_info": {
   "codemirror_mode": {
    "name": "ipython",
    "version": 2
   },
   "file_extension": ".py",
   "mimetype": "text/x-python",
   "name": "python",
   "nbconvert_exporter": "python",
   "pygments_lexer": "ipython2",
   "version": "2.7.12"
  }
 },
 "nbformat": 4,
 "nbformat_minor": 1
}
